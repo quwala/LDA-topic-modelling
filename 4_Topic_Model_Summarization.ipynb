{
 "cells": [
  {
   "cell_type": "markdown",
   "metadata": {
    "nbpresent": {
     "id": "31b17f54-6bfd-48da-ade1-d08773cc47f1"
    }
   },
   "source": [
    "# Automatic Learning of Key Phrases and Topics in Document Collections\n",
    "\n",
    "## Part 4: Topic Model Summarization\n",
    "\n",
    "Part 4 of the series shows how to summarize the contents of the document based on a trained LDA topic model. The summarization is applied to an LDA topic model learned in Part 3.  \n"
   ]
  },
  {
   "cell_type": "markdown",
   "metadata": {},
   "source": [
    "<font color='#053582'>\n",
    "<br>\n",
    "\n",
    "In this part, we will analyze and review the model we built in the last part, including reviewing the topics that have been learned, and observing which terms are most indicative of each topic.\n",
    "\n",
    "</font>"
   ]
  },
  {
   "cell_type": "code",
   "execution_count": 1,
   "metadata": {
    "collapsed": true
   },
   "outputs": [],
   "source": [
    "saveFile = True"
   ]
  },
  {
   "cell_type": "markdown",
   "metadata": {},
   "source": [
    "### Download Data Files (optional)"
   ]
  },
  {
   "cell_type": "markdown",
   "metadata": {},
   "source": [
    "You can download all those data files by executing the code in the cells below."
   ]
  },
  {
   "cell_type": "code",
   "execution_count": 14,
   "metadata": {
    "collapsed": true
   },
   "outputs": [],
   "source": [
    "import urllib.request\n",
    "import os\n",
    "\n",
    "def download_file_from_blob(filename):\n",
    "    shared_path = \"./Data\"\n",
    "    save_path = os.path.join(shared_path, filename)\n",
    "\n",
    "    if not os.path.exists(save_path):\n",
    "        # Base URL for anonymous read access to Blob Storage container\n",
    "        STORAGE_CONTAINER = 'https://bostondata.blob.core.windows.net/scenario-document-collection-analysis/'\n",
    "        url = STORAGE_CONTAINER + filename\n",
    "        urllib.request.urlretrieve(url, save_path)\n",
    "        print(\"Downloaded file: %s\" % filename)\n",
    "    else:\n",
    "        print(\"File \\\"%s\\\" already existed\" % filename)"
   ]
  },
  {
   "cell_type": "code",
   "execution_count": 15,
   "metadata": {},
   "outputs": [
    {
     "name": "stdout",
     "output_type": "stream",
     "text": [
      "Downloaded file: CongressionalDocsLDA.pickle\n",
      "Downloaded file: CongressionalDocsLDA.pickle.expElogbeta.npy\n",
      "Downloaded file: CongressionalDocsLDA.pickle.id2word\n",
      "Downloaded file: CongressionalDocsLDA.pickle.state\n",
      "Downloaded file: CongressionalDocsLDA.pickle.state.sstats.npy\n",
      "Downloaded file: CongressionalDocTopicLM.npy\n",
      "Downloaded file: CongressionalDocTopicProbs.npy\n",
      "Downloaded file: CongressionalDocTopicSummaries.tsv\n",
      "Downloaded file: Vocab2SurfaceFormMapping.tsv\n"
     ]
    }
   ],
   "source": [
    "download_file_from_blob('CongressionalDocsLDA.pickle')\n",
    "download_file_from_blob('CongressionalDocsLDA.pickle.expElogbeta.npy')\n",
    "download_file_from_blob('CongressionalDocsLDA.pickle.id2word')\n",
    "download_file_from_blob('CongressionalDocsLDA.pickle.state')\n",
    "download_file_from_blob('CongressionalDocsLDA.pickle.state.sstats.npy')\n",
    "download_file_from_blob('CongressionalDocTopicLM.npy')\n",
    "download_file_from_blob('CongressionalDocTopicProbs.npy')\n",
    "download_file_from_blob('CongressionalDocTopicSummaries.tsv')\n",
    "download_file_from_blob('Vocab2SurfaceFormMapping.tsv')\n",
    "\n",
    "# Set the saveFile flag to False since you have already downloaded those files\n",
    "saveFile = False"
   ]
  },
  {
   "cell_type": "code",
   "execution_count": 1,
   "metadata": {
    "collapsed": true,
    "nbpresent": {
     "id": "23d9b7ef-11db-419b-9f97-7bb07a1e3ca5"
    }
   },
   "outputs": [],
   "source": [
    "import numpy\n",
    "import pandas \n",
    "import re\n",
    "import math\n",
    "import os\n",
    "import warnings\n",
    "warnings.filterwarnings(action='ignore', category=UserWarning, module='gensim')\n",
    "import gensim\n",
    "from gensim import corpora\n",
    "from gensim import models\n",
    "from operator import itemgetter\n",
    "from collections import namedtuple\n",
    "import time\n",
    "import gc\n",
    "import sys\n",
    "import multiprocessing\n",
    "import matplotlib\n",
    "matplotlib.use('Agg')\n"
   ]
  },
  {
   "cell_type": "markdown",
   "metadata": {},
   "source": [
    "### Load the Trained LDA Model Learned in Part 3 "
   ]
  },
  {
   "cell_type": "code",
   "execution_count": 2,
   "metadata": {
    "collapsed": true
   },
   "outputs": [],
   "source": [
    "# Load pretrained LDA topic model\n",
    "ldaFile = os.path.join(\"./Data\", \"CongressionalDocsLDA.pickle\")\n",
    "lda = gensim.models.ldamodel.LdaModel.load(ldaFile)"
   ]
  },
  {
   "cell_type": "code",
   "execution_count": 3,
   "metadata": {},
   "outputs": [
    {
     "name": "stdout",
     "output_type": "stream",
     "text": [
      "necessary\n"
     ]
    }
   ],
   "source": [
    "# Get the mapping from token ID to token string\n",
    "id2token = lda.id2word\n",
    "print(id2token[1])"
   ]
  },
  {
   "cell_type": "markdown",
   "metadata": {
    "nbpresent": {
     "id": "c3593bde-7eee-4a9d-8565-7d9774947404"
    }
   },
   "source": [
    "### Load the Mapping of Lower-Cased Vocabulary Items to Their Most Common Surface Form"
   ]
  },
  {
   "cell_type": "code",
   "execution_count": 4,
   "metadata": {
    "nbpresent": {
     "id": "21678e5f-ad6c-46d1-8a71-f64bd9483c42"
    }
   },
   "outputs": [
    {
     "name": "stdout",
     "output_type": "stream",
     "text": [
      "Warning: Bad line in surface form mapping file:  \t \n",
      "\n"
     ]
    }
   ],
   "source": [
    "# Load surface form mappings here\n",
    "fp = open(os.path.join(\"./Data\", \"Vocab2SurfaceFormMapping.tsv\"), encoding='utf-8')\n",
    "\n",
    "vocabToSurfaceFormHash = {}\n",
    "\n",
    "# Each line in the file has two tab separated fields;\n",
    "# the first is the vocabulary item used during modeling\n",
    "# and the second is its most common surface form in the \n",
    "# original data\n",
    "for stringIn in fp.readlines():\n",
    "    fields = stringIn.strip().split(\"\\t\")\n",
    "    if len(fields) != 2:\n",
    "        print (\"Warning: Bad line in surface form mapping file: %s\" % stringIn)\n",
    "    elif fields[0] == \"\" or fields[1] == \"\":\n",
    "        print (\"Warning: Bad line in surface form mapping file: %s\" % stringIn)\n",
    "    else:\n",
    "        vocabToSurfaceFormHash[fields[0]] = fields[1]\n",
    "fp.close()\n"
   ]
  },
  {
   "cell_type": "code",
   "execution_count": 5,
   "metadata": {
    "collapsed": true
   },
   "outputs": [],
   "source": [
    "def CreateTermIDToSurfaceFormMapping(id2token, token2surfaceform):\n",
    "    termIDToSurfaceFormMap = []\n",
    "    for i in range(0, len(id2token)):\n",
    "        if id2token[i] in token2surfaceform:\n",
    "            termIDToSurfaceFormMap.append(token2surfaceform[id2token[i]])\n",
    "    return termIDToSurfaceFormMap;\n",
    "\n",
    "termIDToSurfaceFormMap = CreateTermIDToSurfaceFormMapping(id2token, vocabToSurfaceFormHash);"
   ]
  },
  {
   "cell_type": "code",
   "execution_count": 6,
   "metadata": {},
   "outputs": [
    {
     "name": "stdout",
     "output_type": "stream",
     "text": [
      "Term index: 18\n",
      "Modeled form: united_states\n",
      "Surface form: United States\n"
     ]
    }
   ],
   "source": [
    "# print out the modeled token form and the best matching surface for the token with the index value of 18\n",
    "i = 18\n",
    "print('Term index:', i)\n",
    "print('Modeled form:', id2token[i])\n",
    "print('Surface form:', termIDToSurfaceFormMap[i])"
   ]
  },
  {
   "cell_type": "markdown",
   "metadata": {},
   "source": [
    "### Use the Build-in <i> print_topics </i> Method to Summarize a Random Sample of 10 Topics"
   ]
  },
  {
   "cell_type": "code",
   "execution_count": 7,
   "metadata": {},
   "outputs": [
    {
     "name": "stdout",
     "output_type": "stream",
     "text": [
      "Number of topics: 200\n"
     ]
    },
    {
     "data": {
      "text/plain": [
       "[(166,\n",
       "  '0.053*\"history\" + 0.047*\"abortion\" + 0.045*\"honors\" + 0.023*\"declaration\" + 0.021*\"amends_federal_law\" + 0.021*\"content\" + 0.020*\"rescission\" + 0.018*\"weight\" + 0.018*\"save\" + 0.017*\"contains\"'),\n",
       " (14,\n",
       "  '0.040*\"lea\" + 0.024*\"change\" + 0.020*\"civil_rights\" + 0.019*\"immigrant\" + 0.016*\"student\\'s\" + 0.015*\"authorize_the_secretary\" + 0.014*\"spouses\" + 0.014*\"references\" + 0.014*\"withhold\" + 0.014*\"school_year\"'),\n",
       " (50,\n",
       "  '0.131*\"tribal\" + 0.032*\"tribes\" + 0.023*\"band\" + 0.022*\"restricted\" + 0.021*\"replace\" + 0.017*\"hold\" + 0.014*\"united_states\" + 0.014*\"pass\" + 0.012*\"all\" + 0.012*\"jurisdiction\"'),\n",
       " (86,\n",
       "  '0.079*\"travel\" + 0.069*\"initiative\" + 0.035*\"update\" + 0.032*\"fraud\" + 0.027*\"abuse\" + 0.023*\"code\" + 0.022*\"pesticide\" + 0.016*\"society\" + 0.015*\"ethics\" + 0.010*\"travel_expenses\"'),\n",
       " (113,\n",
       "  '0.052*\"women\" + 0.031*\"preservation\" + 0.029*\"boundaries\" + 0.026*\"cultural\" + 0.025*\"boundary\" + 0.022*\"preserve\" + 0.016*\"women\\'s\" + 0.015*\"historical\" + 0.015*\"equity_act\" + 0.014*\"donation\"'),\n",
       " (189,\n",
       "  '0.052*\"firearm\" + 0.040*\"food\" + 0.035*\"risk\" + 0.033*\"exclude\" + 0.031*\"fees\" + 0.016*\"processing\" + 0.014*\"ten_years\" + 0.013*\"act\\'s_enactment\" + 0.013*\"sic\" + 0.013*\"provisions_concerning\"'),\n",
       " (180,\n",
       "  '0.069*\"claim\" + 0.068*\"claims\" + 0.032*\"liability\" + 0.026*\"injury\" + 0.026*\"compensation\" + 0.026*\"loss\" + 0.024*\"settlement\" + 0.021*\"damages\" + 0.017*\"claimant\" + 0.014*\"payment\"'),\n",
       " (192,\n",
       "  '0.171*\"agreement\" + 0.053*\"agreements\" + 0.019*\"parties\" + 0.018*\"enter\" + 0.015*\"entered\" + 0.014*\"union\" + 0.014*\"labor_organization\" + 0.011*\"agree\" + 0.010*\"party\" + 0.009*\"prohibits\"'),\n",
       " (181,\n",
       "  '0.044*\"costs\" + 0.033*\"cost\" + 0.022*\"disaster\" + 0.017*\"fema\" + 0.016*\"repair\" + 0.011*\"restoration\" + 0.010*\"replacement\" + 0.010*\"recovery\" + 0.010*\"reimbursement\" + 0.009*\"costs_incurred\"'),\n",
       " (187,\n",
       "  '0.035*\"board\" + 0.024*\"financial\" + 0.022*\"debt\" + 0.015*\"obligations\" + 0.014*\"bonds\" + 0.013*\"corporation\" + 0.011*\"financial_institutions\" + 0.011*\"banks\" + 0.010*\"bond\" + 0.009*\"deposits\"')]"
      ]
     },
     "execution_count": 7,
     "metadata": {},
     "output_type": "execute_result"
    }
   ],
   "source": [
    "numTopics = lda.num_topics\n",
    "print (\"Number of topics:\", numTopics)\n",
    "\n",
    "lda.print_topics(10)"
   ]
  },
  {
   "cell_type": "markdown",
   "metadata": {},
   "source": [
    "### Use Word Cloud to Visualize a Topic"
   ]
  },
  {
   "cell_type": "code",
   "execution_count": 8,
   "metadata": {
    "collapsed": true
   },
   "outputs": [],
   "source": [
    "import matplotlib.pyplot as plt\n",
    "from wordcloud import WordCloud\n",
    "\n",
    "def _terms_to_counts(terms, multiplier=1000):\n",
    "    return ' '.join([' '.join(int(multiplier * x[1]) * [x[0]]) for x in terms])\n",
    "\n",
    "\n",
    "def visualizeTopic(lda, topicID=0, topn=500, multiplier=1000):\n",
    "    terms = []\n",
    "    tmp = lda.show_topic(topicID, topn)\n",
    "    for term in tmp:\n",
    "        terms.append(term)\n",
    "    \n",
    "    # If the version of wordcloud is higher than 1.3, then you will need to set 'collocations' to False.\n",
    "    # Otherwise there will be word duplicates in the figure. \n",
    "    try:\n",
    "        wordcloud = WordCloud(max_words=10000, collocations=False).generate(_terms_to_counts(terms, multiplier))\n",
    "    except:\n",
    "        wordcloud = WordCloud(max_words=10000).generate(_terms_to_counts(terms, multiplier))\n",
    "    fig = plt.figure(figsize=(12, 16))\n",
    "    plt.imshow(wordcloud)\n",
    "    plt.axis(\"off\")\n",
    "    plt.title(\"Topic %d\" % topicID)\n",
    "    plt.show()\n",
    "    "
   ]
  },
  {
   "cell_type": "code",
   "execution_count": 9,
   "metadata": {
    "collapsed": true
   },
   "outputs": [],
   "source": [
    "%matplotlib inline"
   ]
  },
  {
   "cell_type": "markdown",
   "metadata": {},
   "source": [
    "Visualize topic \\#38 using Word Cloud. This topic seems to be related to national security."
   ]
  },
  {
   "cell_type": "code",
   "execution_count": 11,
   "metadata": {},
   "outputs": [
    {
     "data": {
      "image/png": "[encoded data removed]",
      "text/plain": [
       "<Figure size 864x1152 with 1 Axes>"
      ]
     },
     "metadata": {},
     "output_type": "display_data"
    }
   ],
   "source": [
    "visualizeTopic(lda, topicID=38, topn=1000)"
   ]
  },
  {
   "cell_type": "markdown",
   "metadata": {},
   "source": [
    "Visualize topic \\#168 using Word Cloud. This topic is mainly related to health care."
   ]
  },
  {
   "cell_type": "code",
   "execution_count": 12,
   "metadata": {},
   "outputs": [
    {
     "data": {
      "image/png": "[encoded data removed]",
      "text/plain": [
       "<Figure size 864x1152 with 1 Axes>"
      ]
     },
     "metadata": {},
     "output_type": "display_data"
    }
   ],
   "source": [
    "visualizeTopic(lda, topicID=168, topn=1000)"
   ]
  },
  {
   "cell_type": "markdown",
   "metadata": {},
   "source": [
    "### Generate Various Required Probability Distributions"
   ]
  },
  {
   "cell_type": "markdown",
   "metadata": {
    "nbpresent": {
     "id": "6975bd59-2a7c-466c-b248-7dbff82dea79"
    }
   },
   "source": [
    "#### Load the Document Probability Score P(topic|doc) Computed by the LDA Model from File\n",
    "\n",
    "In this section, each document from the corpus is passed into the LDA model which then infers the topic distribution for each document. The topic distributions are collected into a single numpy array."
   ]
  },
  {
   "cell_type": "code",
   "execution_count": 13,
   "metadata": {},
   "outputs": [
    {
     "data": {
      "text/plain": [
       "(297462, 200)"
      ]
     },
     "execution_count": 13,
     "metadata": {},
     "output_type": "execute_result"
    }
   ],
   "source": [
    "docTopicProbsFile = os.path.join(\"./Data\", \"CongressionalDocTopicProbs.npy\")\n",
    "\n",
    "# docTopicProbs[docID,TopicID] --> P(topic|doc)\n",
    "docTopicProbs = numpy.load(docTopicProbsFile)\n",
    "\n",
    "# The docTopicProbs shape should be (# of docs, # of topics)\n",
    "docTopicProbs.shape"
   ]
  },
  {
   "cell_type": "markdown",
   "metadata": {
    "nbpresent": {
     "id": "65904084-4721-4b58-8ea5-711b7b6388fa"
    }
   },
   "source": [
    "#### Compute the Global Topic Likelihood Scores P(topic)"
   ]
  },
  {
   "cell_type": "markdown",
   "metadata": {},
   "source": [
    "<font color='#053582'>\n",
    "<br>\n",
    "\n",
    "This is the prior probability of each topic\n",
    "\n",
    "</font>"
   ]
  },
  {
   "cell_type": "code",
   "execution_count": 14,
   "metadata": {
    "collapsed": true,
    "nbpresent": {
     "id": "b43ca7bd-75e7-4d17-9f77-80ce05375dad"
    },
    "scrolled": true
   },
   "outputs": [],
   "source": [
    "# Computing the global topic likelihoods by aggregating topic probabilities over all documents\n",
    "# topicProbs[topicID] --> P(topic)\n",
    "def ComputeTopicProbs(docTopicProbs):\n",
    "    topicProbs = docTopicProbs.sum(axis=0) \n",
    "    topicProbs = topicProbs/sum(topicProbs)\n",
    "    return topicProbs\n",
    "\n",
    "topicProbs = ComputeTopicProbs(docTopicProbs)"
   ]
  },
  {
   "cell_type": "markdown",
   "metadata": {
    "nbpresent": {
     "id": "82e2d906-b067-419d-9532-378c6f36fd69"
    }
   },
   "source": [
    "#### Convert the Topic Language Model Information P(term|topic) from the LDA Model into a NumPy Representation"
   ]
  },
  {
   "cell_type": "code",
   "execution_count": 15,
   "metadata": {
    "collapsed": true,
    "nbpresent": {
     "id": "7fd9e75d-7abf-4dca-b173-23405ebdfbf6"
    }
   },
   "outputs": [],
   "source": [
    "def ExtractTopicLMMatrix(lda):\n",
    "    # Initialize the matrix\n",
    "    docTopicProbs = numpy.zeros((lda.num_topics,lda.num_terms))\n",
    "    for topicID in range(0,lda.num_topics):\n",
    "        termProbsList = lda.get_topic_terms(topicID,lda.num_terms)\n",
    "        for termProb in termProbsList:\n",
    "            docTopicProbs[topicID,termProb[0]]=termProb[1]\n",
    "    return docTopicProbs\n",
    "    \n",
    "# topicTermProbs[topicID,termID] --> P(term|topic)\n",
    "topicTermProbs = ExtractTopicLMMatrix(lda)"
   ]
  },
  {
   "cell_type": "code",
   "execution_count": 17,
   "metadata": {
    "collapsed": true
   },
   "outputs": [],
   "source": [
    "# Set saveFile flag to true if you want to save the Topic LMs for a newly trained LDA model to file\n",
    "if saveFile:\n",
    "    numpy.save(os.path.join(\"./Data\", \"CongressionalDocTopicLM.npy\"), topicTermProbs)"
   ]
  },
  {
   "cell_type": "markdown",
   "metadata": {
    "nbpresent": {
     "id": "688b7bd8-bb00-442d-a195-dd1310424d82"
    }
   },
   "source": [
    "#### Compute P(topic,term), P(term), and P(topic|term)"
   ]
  },
  {
   "cell_type": "code",
   "execution_count": 18,
   "metadata": {
    "collapsed": true,
    "nbpresent": {
     "id": "ac3b8bc5-6733-46cf-9451-10b7c9ef8d88"
    }
   },
   "outputs": [],
   "source": [
    "# Compute the joint likelihoods of topics and terms\n",
    "# jointTopicTermProbs[topicID,termID] --> P(topic,term) = P(term|topic)*P(topic)\n",
    "jointTopicTermProbs = numpy.diag(topicProbs).dot(topicTermProbs) \n",
    "\n",
    "# termProbs[termID] --> P(term)\n",
    "termProbs = jointTopicTermProbs.sum(axis=0)\n",
    "\n",
    "# topicProbsPermTerm[topicID,termID] --> P(topic|term)\n",
    "topicProbsPerTerm = jointTopicTermProbs / termProbs"
   ]
  },
  {
   "cell_type": "markdown",
   "metadata": {},
   "source": [
    "Print the most frequent words in the LDA vocabulary. Compare it to Cell 11 in Part 3, and you will find that the most frequent words in LDA vocabulary are NOT the same as the most frequent words in corpus vocabulary. This is due to the fact that the probability derived from the LDA model do not account for document length, and therefore words common in shorter documents carry more weight in these distributions than words common in longer documents."
   ]
  },
  {
   "cell_type": "code",
   "execution_count": 19,
   "metadata": {
    "nbpresent": {
     "id": "e45a357e-ab67-4d85-80e9-d433714f9798"
    }
   },
   "outputs": [
    {
     "name": "stdout",
     "output_type": "stream",
     "text": [
      "1: amends --> 0.005384\n",
      "2: requires --> 0.004441\n",
      "3: national --> 0.003563\n",
      "4: provides --> 0.003309\n",
      "5: state --> 0.003208\n",
      "6: certain --> 0.003189\n",
      "7: program --> 0.003045\n",
      "8: including --> 0.002890\n",
      "9: united_states --> 0.002783\n",
      "10: provide --> 0.002542\n",
      "11: harmonized_tariff_schedule_of_the_united_states --> 0.002519\n",
      "12: individual --> 0.002294\n",
      "13: all --> 0.002225\n",
      "14: specified --> 0.002102\n",
      "15: prohibits --> 0.002008\n",
      "16: states --> 0.001916\n",
      "17: december_31 --> 0.001869\n",
      "18: authorizes --> 0.001784\n",
      "19: programs --> 0.001750\n",
      "20: service --> 0.001748\n",
      "21: federal --> 0.001656\n",
      "22: respect --> 0.001651\n",
      "23: credit --> 0.001631\n",
      "24: services --> 0.001586\n",
      "25: requirements --> 0.001486\n"
     ]
    }
   ],
   "source": [
    "# Print most frequent words in LDA vocab\n",
    "mostFrequentTermIDs = (-termProbs).argsort()\n",
    "for i in range(0,25):\n",
    "    print (\"%d: %s --> %f\" % (i+1, id2token[mostFrequentTermIDs[i]], termProbs[mostFrequentTermIDs[i]]))"
   ]
  },
  {
   "cell_type": "markdown",
   "metadata": {
    "nbpresent": {
     "id": "9c6d2ec8-2fd6-43ac-89e7-293228019bb2"
    }
   },
   "source": [
    "#### Compute WPMI\n",
    "\n",
    "To determine which vocabulary terms are most representative of a topic, systems typically just choose a set of terms that are most likely for the topic, i.e., terms that maximize the language model expression <i>P(term|topic)</i> for the given topic. This approach is adequate for many data sets. However, for some data sets there may be common words in the corpus that are frequent terms within multiple topics, and hence not a distinguishing term for any of these topics. In this case, selecting words which have the largest weighted pointwise mutual information (WPMI) with a given topic is more appropriate. \n",
    "\n",
    "The expression for WPMI between a word and token is given as:\n",
    "\n",
    "\n",
    "$WPMI(term,topic) = P(term,topic)\\log\\frac{P(term,topic)}{P(term)P(topic)} = P(term,topic)\\log\\frac{P(topic|term)}{P(topic)}$\n"
   ]
  },
  {
   "cell_type": "code",
   "execution_count": 20,
   "metadata": {},
   "outputs": [
    {
     "data": {
      "text/plain": [
       "(200, 68145)"
      ]
     },
     "execution_count": 20,
     "metadata": {},
     "output_type": "execute_result"
    }
   ],
   "source": [
    "topicTermWPMI =(jointTopicTermProbs.T * numpy.log(topicProbsPerTerm.T / topicProbs)).T\n",
    "topicTermWPMI.shape"
   ]
  },
  {
   "cell_type": "markdown",
   "metadata": {
    "nbpresent": {
     "id": "fd3d5300-60a1-4873-a52d-a9d5b89b3463"
    }
   },
   "source": [
    "#### Compute Topic to Document Purity measure for Each Topic\n",
    "\n",
    "One measure of the importance or quality of a topic is its topic to document purity measure. This purity measure assumes latent topics that dominate the documents in which they appear are more semantically important than latent topics that are weakly spread across many documents. This concept was introduced in the paper [\"Latent Topic Modeling for Audio Corpus Summarization\"](http://people.csail.mit.edu/hazen/publications/Hazen-Interspeech11.pdf). The purity measure is expressed by the following equation:\n",
    "\n",
    "$Purity(topic) = \\exp\\left (\n",
    "                 \\frac{\\sum_{\\forall doc}P(topic|doc)\\log P(topic|doc)}{\\sum_{\\forall doc}P(topic|doc)}\n",
    "                \\right )$"
   ]
  },
  {
   "cell_type": "code",
   "execution_count": 21,
   "metadata": {
    "collapsed": true,
    "nbpresent": {
     "id": "f2b0a490-a67d-47fc-872f-1e4696886ecb"
    }
   },
   "outputs": [],
   "source": [
    "topicPurity = numpy.exp(((docTopicProbs * numpy.log(docTopicProbs)).sum(axis=0))/(docTopicProbs).sum(axis=0))"
   ]
  },
  {
   "cell_type": "markdown",
   "metadata": {
    "nbpresent": {
     "id": "61921e49-660e-4d97-a4c8-feec4804e2ce"
    }
   },
   "source": [
    "### Create Topic Summaries "
   ]
  },
  {
   "cell_type": "markdown",
   "metadata": {},
   "source": [
    "In the code snippet below we demonstrate how the WPMI measure lowers the score of some common tokens that do not provide value in a topic summary in comparison to the standard word likely measure P(token|topic). For topic 38 below notice how the generic words <i>United States</i>, <i>including</i>, and <i>Government</i> have their position in the summaries lowered by the WPMI measure relative to the straight P(token|topic) measure, while the WMPI measure improves the ranking for the content bearing tokens <i>Security Act</i>, <i>security forces</i> and <i>counterterrorism</i>.\n",
    "\n",
    "Again, this may not apply to your LDA model if you have retrained one."
   ]
  },
  {
   "cell_type": "code",
   "execution_count": 22,
   "metadata": {
    "nbpresent": {
     "id": "902f0953-1cc3-465a-a93b-aa08daf2b18b"
    }
   },
   "outputs": [
    {
     "name": "stdout",
     "output_type": "stream",
     "text": [
      "                                        WPMI                                                 Prob\n",
      " 1:                            security ---> 0.002573                               security ---> 0.111519\n",
      " 2:                          electronic ---> 0.000796                             electronic ---> 0.035209\n",
      " 3:                           terrorism ---> 0.000710                              terrorism ---> 0.029404\n",
      " 4:                            violence ---> 0.000495                               violence ---> 0.021462\n",
      " 5:                               force ---> 0.000276                          United States ---> 0.015671\n",
      " 6:                              secure ---> 0.000254                                  force ---> 0.013277\n",
      " 7:                                 PRC ---> 0.000232                                 secure ---> 0.013067\n",
      " 8:                             threats ---> 0.000218                              including ---> 0.012469\n",
      " 9:                                  UN ---> 0.000217                                threats ---> 0.010036\n",
      "10:                         territories ---> 0.000190                                    PRC ---> 0.009606\n",
      "11:                          terrorists ---> 0.000189                                     UN ---> 0.009384\n",
      "12:                        Security Act ---> 0.000185                             Government ---> 0.008339\n",
      "13:                            presence ---> 0.000170                               presence ---> 0.008323\n",
      "14:                     security forces ---> 0.000164                            territories ---> 0.008302\n",
      "15:                    counterterrorism ---> 0.000160                              political ---> 0.008301\n"
     ]
    }
   ],
   "source": [
    "topicID = 38\n",
    "\n",
    "highestWPMITermIDs = (-topicTermWPMI[topicID]).argsort()\n",
    "highestProbTermIDs = (-topicTermProbs[topicID]).argsort()\n",
    "print (\"                                        WPMI                                                 Prob\")\n",
    "for i in range(0,15):\n",
    "    print (\"%2d: %35s ---> %8.6f    %35s ---> %8.6f\" % (i+1, \n",
    "                                                        termIDToSurfaceFormMap[highestWPMITermIDs[i]], \n",
    "                                                        topicTermWPMI[topicID,highestWPMITermIDs[i]],\n",
    "                                                        termIDToSurfaceFormMap[highestProbTermIDs[i]], \n",
    "                                                        topicTermProbs[topicID,highestProbTermIDs[i]]))                "
   ]
  },
  {
   "cell_type": "markdown",
   "metadata": {},
   "source": [
    "<font color='#053582'>\n",
    "<br>\n",
    "\n",
    "Create a string of words representing each topics, while applying previously written transformations (most common form of a word in terms of capitalization, remove underscores in phrases.  \n",
    "</font>"
   ]
  },
  {
   "cell_type": "code",
   "execution_count": 23,
   "metadata": {
    "collapsed": true,
    "nbpresent": {
     "id": "5fef2737-5cde-43e2-8c05-04320722da93"
    }
   },
   "outputs": [],
   "source": [
    "def CreateTopicSummaries(topicTermScores, id2token, tokenid2surfaceform, maxStringLen):\n",
    "    reIgnore = re.compile('^[a-z]\\.$')\n",
    "    reAcronym = re.compile('^[A-Z]+$')\n",
    "    topicSummaries = []\n",
    "    for topicID in range(0,len(topicTermScores)):\n",
    "        rankedTermIDs = (-topicTermScores[topicID]).argsort()\n",
    "        maxNumTerms = len(rankedTermIDs)\n",
    "        termIndex = 0\n",
    "        stop = 0\n",
    "        outputTokens = []\n",
    "        prevAcronyms = []\n",
    "        topicSummary = \"\"\n",
    "        while not stop:\n",
    "            # If we've run out of tokens then stop...\n",
    "            if (termIndex>=maxNumTerms):\n",
    "                stop=1\n",
    "            # ...otherwise consider adding next token to summary\n",
    "            else:\n",
    "                nextToken = id2token[rankedTermIDs[termIndex]]\n",
    "                nextTokenOut = tokenid2surfaceform[rankedTermIDs[termIndex]]\n",
    "                keepToken = 1\n",
    "                \n",
    "                # Prepare to test current word as an acronym or a string that reduces to an acronym\n",
    "                nextTokenIsAcronym = 0\n",
    "                nextTokenAbbrev = \"\"\n",
    "                if reAcronym.match(nextTokenOut) != None:\n",
    "                    nextTokenIsAcronym = 1\n",
    "                else:\n",
    "                    subTokens = nextToken.split('_')\n",
    "                    if (len(subTokens)>1):\n",
    "                        for subToken in subTokens:\n",
    "                            nextTokenAbbrev += subToken[0]                        \n",
    "\n",
    "                # See if we should ignore this token because it matches the regex for tokens to ignore\n",
    "                if ( reIgnore.match(nextToken) != None ):\n",
    "                    keepToken = 0;\n",
    "\n",
    "                # Otherwise see if we should ignore this token because\n",
    "                # it is a close match to a previously selected token\n",
    "                elif len(outputTokens) > 0:          \n",
    "                    for prevToken in outputTokens:\n",
    "                        # Ignore token if it is a substring of a previous token\n",
    "                        if nextToken in prevToken:\n",
    "                            keepToken = 0\n",
    "                        # Ignore token if it is a superstring of a previous token\n",
    "                        elif prevToken in nextToken:\n",
    "                            keepToken = 0\n",
    "                        # Ignore token if it is an acronym of a previous token\n",
    "                        elif nextTokenIsAcronym:\n",
    "                            subTokens = prevToken.split('_')\n",
    "                            if (len(subTokens)>1):\n",
    "                                prevTokenAbbrev = \"\"\n",
    "                                for subToken in subTokens:\n",
    "                                    prevTokenAbbrev += subToken[0]\n",
    "                                if prevTokenAbbrev == nextToken:\n",
    "                                    keepToken = 0                                  \n",
    "                    for prevAcronym in prevAcronyms:\n",
    "                        # Ignore token if it is the long form of an earlier acronym\n",
    "                        if nextTokenAbbrev == prevAcronym:\n",
    "                                keepToken = 0\n",
    "\n",
    "                # Add tokens to the summary for this topic                \n",
    "                if keepToken:\n",
    "                    # Always add at least one token to the summary\n",
    "                    if len(topicSummary) == 0 or ( len(topicSummary) + len(nextTokenOut) + 1 < maxStringLen):\n",
    "                        if len(topicSummary) == 0:\n",
    "                            topicSummary = nextTokenOut\n",
    "                        else: \n",
    "                            topicSummary += \", \" + nextTokenOut\n",
    "                        outputTokens.append(nextToken)\n",
    "                        if nextTokenIsAcronym:\n",
    "                            prevAcronyms.append(nextToken)\n",
    "                    # If we didn't add the previous word and we're within 10 characters of \n",
    "                    # the max string length then we'll just stop here\n",
    "                    elif maxStringLen - len(topicSummary) < 10 :\n",
    "                        stop = 1\n",
    "                    # Otherwise if the current token is too long, but we still have more than\n",
    "                    # 10 characters of space left we'll just skip this one and add the next token\n",
    "                    # one if it's short enough\n",
    "                termIndex += 1         \n",
    "        topicSummaries.append(topicSummary)\n",
    "    return topicSummaries   \n",
    "    \n",
    "topicSummaries = CreateTopicSummaries(topicTermWPMI, id2token, termIDToSurfaceFormMap, 85)"
   ]
  },
  {
   "cell_type": "code",
   "execution_count": 24,
   "metadata": {
    "collapsed": true,
    "nbpresent": {
     "id": "bbe5cc20-ad4f-482c-8f94-09de87752d30"
    }
   },
   "outputs": [],
   "source": [
    "# Rank the topics by their prominence score in the corpus\n",
    "# The topic score combines the total weight of each a topic in the corpus \n",
    "# with a topic document purity score for topic \n",
    "# Topics with topicScore > 1 are generally very strong topics\n",
    "\n",
    "topicScore = (numTopics * topicProbs) * (2 * topicPurity)\n",
    "topicRanking = (-topicScore).argsort()"
   ]
  },
  {
   "cell_type": "markdown",
   "metadata": {},
   "source": [
    "### Print Out Topical Summary of the Entire Corpus "
   ]
  },
  {
   "cell_type": "code",
   "execution_count": 25,
   "metadata": {
    "nbpresent": {
     "id": "dacd12f0-444b-4759-af58-27d4ba1c4fe5"
    },
    "scrolled": false
   },
   "outputs": [
    {
     "name": "stdout",
     "output_type": "stream",
     "text": [
      "Rank  ID  Score  Prob  Purity  Summary\n",
      "   1 165  5.076 (2.510, 0.506)  Amends, Harmonized Tariff Schedule of the United States, December 31, duty, suspend\n",
      "   2 174  1.827 (1.101, 0.415) Immigration and Nationality Act, admission, United States for permanent residence\n",
      "   3 114  1.456 (1.611, 0.226) property, tax, qualified, income, interest, Amends the Internal Revenue Code, Defines\n",
      "   4  59  1.224 (1.497, 0.204) National, day, USDA, Week, Memorial, Designates, honor, March, importance, events\n",
      "   5 139  0.957 (1.269, 0.189) benefits, individual, Social Security, month, Survivors and Disability Insurance\n",
      "   6 140  0.734 (0.904, 0.203) Medicare, payment, Social Security Act, Medicaid, title XVIII, spectrum, OASDI\n",
      "   7 120  0.675 (0.969, 0.174) DOE, account, certain, distributions, qualified, gross income, allow, exclusion\n",
      "   8 147  0.674 (1.029, 0.164) Congress, fiscal year, budget, legislation, GAO, report, Requires, estimate, enacted\n",
      "   9  33  0.576 (1.020, 0.141) credit, Amends the Internal Revenue Code to allow, Department of Veterans Affairs\n",
      "  10  82  0.556 (0.884, 0.157) rule, committee, House, resolution, consideration, adopted, Congress, reported\n",
      "  11   3  0.531 (0.795, 0.167) trade, merchandise, U.S., goods, country, multilateral, imports, bilateral, USTR\n",
      "  12 198  0.504 (0.861, 0.146) Wilderness, National Forest, County, Florida, Virginia, Designates, Nevada, livestock\n",
      "  13  10  0.490 (0.736, 0.167) drug, product, FDA, food, manufacturer, labeling, Cosmetic Act, marketing, biological\n",
      "  14  20  0.490 (0.983, 0.124) U.S., international, countries, country, United States, Department of State, export\n",
      "  15  62  0.487 (0.770, 0.158) veterans, medical, care, Department, disability, counseling, treatment, furnish\n",
      "  16  18  0.477 (0.794, 0.150) association, Constitutional Amendment, Compact, elected, term, majority, Congress\n",
      "  17 156  0.471 (0.795, 0.148) pay, retirement, October 1, annuity, retired, Federal employees, date, service\n",
      "  18  69  0.432 (0.626, 0.172) Provides for the relief, John, low, ground, biometric, appreciation, unlicensed\n",
      "  19 148  0.397 (0.951, 0.104) period, application, certification, date, determination, State, notice, Requires\n",
      "  20 157  0.384 (0.615, 0.156) housing, mortgage, HUD, rental, foreclosure, PHA, assistance, community development\n",
      "  21 146  0.383 (0.644, 0.149) Tribe, transportation, highway, safety, projects, State, FY2014, bridge, corridor\n",
      "  22  47  0.368 (0.620, 0.148) New York, Washington, Basin, consideration of H.R, Sets forth the rule, Harbor, Ohio\n",
      "  23  42  0.367 (0.824, 0.111) House of Representatives, Senate, Expresses the sense, tracking, missing, Congress\n",
      "  24  32  0.350 (0.782, 0.112) contributions, taxpayer, calendar year, Treats, refund, taxes, make permanent\n",
      "  25   1  0.345 (0.784, 0.110) efforts, Calls, people, peace, commitment, leadership, war, Government, crisis\n",
      "  26 180  0.332 (0.700, 0.119) claim, liability, injury, settlement, loss, damages, compensation, liable, caused\n",
      "  27 179  0.328 (0.723, 0.114) lands, County, conveyance, federal land, Secretary of the Interior, leases, China\n",
      "  28  43  0.328 (0.738, 0.111) court, party, civil action, investigation, jurisdiction, proceeding, judgment\n",
      "  29  19  0.322 (0.709, 0.113) project, construction, facilities, Island, design, Dam, Lake, maintenance, Texas, Bay\n",
      "  30 103  0.319 (0.593, 0.134) alien, FCC, immigration, visa, detention, removal, status, DHS, United States, FTC\n",
      "  31  70  0.315 (0.650, 0.121) business, IRS, stock, partnership, corporations, corporate, tax deduction, credits\n",
      "  32 109  0.314 (0.744, 0.106) American, nation, presidential, world, September, Alliance, Vietnam, June, success\n",
      "  33  28  0.312 (0.645, 0.121) programs, education, children, LEAs, ESEA, teachers, parents, grants, CDC, activities\n",
      "  34 185  0.310 (0.724, 0.107) employees, employer, employment, workforce, employed, wages, Reauthorization Act\n",
      "  35  55  0.298 (0.688, 0.108) service, supports, mail, World War II, postal, U.S, Post Office, delivery, works\n",
      "  36 187  0.297 (0.653, 0.114) Board, debt, financial, bonds, obligations, banks, Corporation, deposits, banking\n",
      "  37 133  0.293 (0.736, 0.099) regulations, permit, compliance, coal, requirements, regulatory, standard, EPA\n",
      "  38 162  0.291 (0.834, 0.087) ensure, develop, enhance, implementation, strategies, assessment, identify, address\n",
      "  39 110  0.290 (0.613, 0.118) offense, convicted, defendant, Directs the Attorney General, sentence, prosecution\n",
      "  40  76  0.273 (0.588, 0.116) coverage, insurance, premium, Enhancement Act, Mandates, group, PPACA, benefits\n",
      "  41 123  0.272 (0.654, 0.104) grant program, fiscal year, Commissioner, AIDS, rehabilitation, advocacy, Welfare\n",
      "  42 105  0.260 (0.553, 0.118) firearms, possession, transfer, handgun, person, sale, licensed, knowingly, CHIP\n",
      "  43 117  0.259 (0.626, 0.103) water, California, unit, Puerto Rico, Hawaii, municipal, Alaska, Minnesota, Kansas\n",
      "  44 135  0.258 (0.590, 0.109) research, Amends the Public Health Service Act, Center, NIH, HHS, treatment, HIV\n",
      "  45 153  0.248 (0.584, 0.106) services, care, Amends title XVIII, providers, hospital, physician, patients\n",
      "  46  31  0.246 (0.583, 0.106) FY, assistance, producers, programs, aid, acreage, crops, farmers, available\n",
      "  47  44  0.239 (0.530, 0.113) securities, transactions, issuer, assets, equity, financial institution, FDIC, CFTC\n",
      "  48 168  0.238 (0.581, 0.102) health care, medical, clinical, nursing, physicians, primary care, health services\n",
      "  49   0  0.236 (0.641, 0.092) decision, review, appeal, judicial, orders, cases, judge, petition, hearing, Justice\n",
      "  50 172  0.234 (0.584, 0.100) officer, armed forces, active duty, military personnel, serving, members, civilian\n",
      "  51  65  0.233 (0.604, 0.097) member, congressional, matter, Board, legislative branch, adjudication, inquiry, AOC\n",
      "  52 125  0.232 (0.704, 0.082) person, penalties, violation, adoption, reporting requirements, evidence, penalty\n",
      "  53 176  0.227 (0.549, 0.103) Reform, levels, sequestration, Balanced Budget and Emergency Deficit Control Act\n",
      "  54 177  0.227 (0.647, 0.087) Fund, Prohibits, appropriations, available, amounts, Treasury, salaries and expenses\n",
      "  55  87  0.224 (0.567, 0.099) technology, research, program, technologies, SBA, advanced, development, NASA\n",
      "  56 121  0.219 (0.661, 0.083) program, State, funds, Requires, assistance, consolidation, funding, allocation\n",
      "  57  80  0.212 (0.485, 0.109) building, milk, producer, Haiti, grant programs, dairy, purchases, drought, FY2007\n",
      "  58 199  0.207 (0.451, 0.115) election, candidate, campaign, Senator, representative, Corps, methamphetamine\n",
      "  59 194  0.205 (0.554, 0.093) enrollment, enrolled, B, C, tuition, supplemental, degree, maritime, dependents\n",
      "  60 193  0.201 (0.557, 0.090) loan, guarantee, financing, borrowers, economic development, repayment, lenders\n",
      "  61  85  0.200 (0.564, 0.089) grant, partnerships, mathematics, education, State, Montana, Idaho, LEAs, learning\n",
      "  62 111  0.198 (0.480, 0.103) child, parent, cancer, Ukraine, asylum, October, Awareness Month, Native Hawaiian\n",
      "  63 124  0.195 (0.541, 0.090) expenses, Museum, savings, committees, space, East, foreign assistance, five-year\n",
      "  64 181  0.192 (0.634, 0.076) costs, disaster, FEMA, repair, replacement, flood, restoration, Hurricane, recovery\n",
      "  65  71  0.190 (0.487, 0.098) Iran, vehicles, fuel, motor vehicle, equipment, manufactured, manufacturers, pounds\n",
      "  66  60  0.188 (0.614, 0.077) entities, organizations, award grants, establish, training, develop, research, assist\n",
      "  67 128  0.188 (0.582, 0.081) Council, administration, Institute, functions, Establishes, Board, policy, outcomes\n",
      "  68 149  0.176 (0.543, 0.081) energy, strategy, efficiency, development, U.S. policy, impact, promote, targets\n",
      "  69 143  0.176 (0.435, 0.101) Internet, child support, recipient, TANF, State, SSA, Supplemental Security Income\n",
      "  70 154  0.171 (0.588, 0.073) covered, list, report, statement, items, test, Waives, description, information\n",
      "  71  57  0.169 (0.570, 0.074) Secretary, title, Appropriates funds, generation, facilities, revitalization\n",
      "  72 138  0.168 (0.553, 0.076) fee, State, charge, payments, pregnancy, Act to provide, eligible individual, woman\n",
      "  73 161  0.167 (0.532, 0.078) management, land, areas, resources, environmental, State, adjacent, values, ecosystem\n",
      "  74  97  0.167 (0.504, 0.083) official, agency, record, Federal employee, OPM, meetings, internal, executive branch\n",
      "  75 196  0.166 (0.495, 0.084) disclosure, tobacco, records, authorization, communications, customer, privacy\n",
      "  76 163  0.165 (0.466, 0.089) plan, ERISA, trust, Amends the Employee Retirement Income Security Act, benefits\n",
      "  77 137  0.160 (0.538, 0.074) Office, currently, Department, strategic, positions, Assistant Secretary, appointment\n",
      "  78  39  0.158 (0.399, 0.099) railroad, company, Amtrak, USPS, companies, freight, interest rate, track, signals\n",
      "  79 190  0.158 (0.528, 0.075) information, data, intelligence, website, Center, grantees, analysis, collect\n",
      "  80 192  0.157 (0.483, 0.082) agreement, parties, enter, union, labor organization, discriminatory, restricting\n",
      "  81  94  0.157 (0.526, 0.075) consumer, prohibition, prohibited, individual, Prohibits, Federal Trade Commission\n",
      "  82  48  0.155 (0.559, 0.069) Recognizes, extend, Encourages, Urges, Commends, Expresses, United, support, wireless\n",
      "  83 116  0.155 (0.427, 0.091) aircraft, flight, carrier, passenger, safety, air transportation, service, cargo\n",
      "  84  64  0.153 (0.466, 0.082) agricultural, fish, Agriculture, Great Lakes, waters, farm, Rural Development\n",
      "  85  66  0.153 (0.427, 0.090) Division, Director, personnel, registry, FBI, National Guard, Reaffirms, replacement\n",
      "  86 183  0.150 (0.439, 0.085) exchange, Fort, telephone, convey, New Jersey, subscriber, broadband, section 8\n",
      "  87  22  0.148 (0.456, 0.081) Israel, religious, Syria, sex, race, discrimination, religion, political, color\n",
      "  88   5  0.146 (0.480, 0.076) Administrator, EPA, waste, disposal, recycling, discharge, materials, generated\n",
      "  89 144  0.144 (0.377, 0.095) open, Act to extend, input, forensic, mapping, Act to allow, George, intermediate\n",
      "  90  37  0.140 (0.426, 0.082) vessel, inspection, incident, Convention, owner, ports, cleanup, Protocol, oil spill\n",
      "  91  25  0.140 (0.496, 0.070) sanctions, accountability, Expresses the sense of the Congress, treaty, USAID\n",
      "  92 101  0.137 (0.480, 0.071) model, programs, treatment, develop and implement, outreach, prevention, health plans\n",
      "  93 152  0.134 (0.451, 0.074) DHS, OMB, Homeland Security, New Mexico, Colorado, Arizona, cybersecurity, Louisiana\n",
      "  94  35  0.134 (0.504, 0.066) agency, agencies, Office, Requires the Director, Federal, report annually, subgrants\n",
      "  95 100  0.132 (0.396, 0.083) oil, gasoline, petroleum, retail, prices, Post Office Building, ethanol, fuel, supply\n",
      "  96  49  0.131 (0.405, 0.081) Native American, poverty, January, sports, Speaker of the House of Representatives\n",
      "  97 113  0.131 (0.483, 0.068) women, preservation, boundaries, boundary, cultural, preserve, Equity Act, historical\n",
      "  98  45  0.130 (0.399, 0.081) military, Army, Air Force, Navy, defense, NATO, aircraft, members of the Armed Forces\n",
      "  99 160  0.129 (0.423, 0.076) school, students, wetlands, title IV, educational, wheat, college, scholarships\n",
      " 100 171  0.128 (0.434, 0.074) city, Forest Service, Park, Creek, Bureau of Land Management, Illinois, NPS, mercury\n",
      " 101 112  0.127 (0.413, 0.077) students, institutions, IHEs, scholarship, academic, teaching, Higher Education Act\n",
      " 102  40  0.126 (0.398, 0.079) natural gas, FERC, market, storage, Food and Drug Administration, price, volume\n",
      " 103  51  0.125 (0.407, 0.077) Foundation, H.R, amendment, surplus, Excellence, withholding, point, flag, Centennial\n",
      " 104  21  0.123 (0.439, 0.070) families, family, services, child care, innovation, grant funds, foster care\n",
      " 105  63  0.123 (0.389, 0.079) victims, DOJ, law enforcement, Attorney General, crime, Amends the Omnibus, stalking\n",
      " 106  54  0.121 (0.460, 0.066) action, relief, class, practice, brought, Russian, antitrust, award, plaintiff\n",
      " 107  52  0.121 (0.401, 0.075) Makes appropriations, Oregon, offset, Related Agencies Appropriations Act, Rescinds\n",
      " 108 170  0.119 (0.471, 0.063) production, rate, transportation, leasing, reserve, domestic, competitive, bid\n",
      " 109  46  0.118 (0.471, 0.063) organization, access, communication, Bars, user, unauthorized, influence, Prohibits\n",
      " 110  24  0.117 (0.451, 0.065) assessment, recommendations, study, inventory, resource, senior, Mountain, asbestos\n",
      " 111 106  0.117 (0.415, 0.070) million, contract, small business, billion, defense, conversion, relocation, award\n",
      " 112  38  0.116 (0.446, 0.065) security, electronic, terrorism, violence, force, secure, PRC, threats, UN, presence\n",
      " 113  99  0.116 (0.358, 0.081) District, Judiciary, Mayor, D.C., grant recipient, dust, regulatory agency, Council\n",
      " 114 118  0.115 (0.341, 0.084) Indian, acting through the Director, America, IHS, deficit, decrease, BIA, addiction\n",
      " 115 186  0.114 (0.384, 0.074) amended, introduced, summary of that version is repeated, global, Libya, deploy, roll\n",
      " 116  93  0.109 (0.404, 0.068) mental health, Commission, study and report to Congress, medicine, Peace Corps\n",
      " 117  56  0.108 (0.365, 0.074) reduced, reductions, demonstration project, cash, Camp, National Highway, PA, counted\n",
      " 118  78  0.107 (0.387, 0.069) assessments, Guam, bonus, July, marriage, Virgin Islands, American Samoa, buildings\n",
      " 119 122  0.107 (0.380, 0.070) freedom, affordable, Afghanistan, birth, alien's, August, athletic, movement\n",
      " 120 191  0.107 (0.355, 0.075) airport, aviation, TSA, Sets forth the rule for consideration, sponsor, automatic\n",
      " 121 127  0.106 (0.379, 0.070) license, lease, exploration, licensing, water quality, oil and gas, offshore\n",
      " 122 131  0.105 (0.398, 0.066) tax-exempt, allowance, residence, program requirements, flexible, meals, action plan\n",
      " 123  27  0.104 (0.376, 0.069) procurement, coastal, zone, component, ocean, fisheries, naval, fishery, sustainable\n",
      " 124   2  0.104 (0.360, 0.072) laboratory, units, acid, laboratories, surface transportation, source, standard\n",
      " 125  36  0.102 (0.385, 0.066) Cuba, governments, Pennsylvania, Relief Act, reconstruction, independence, Mexico\n",
      " 126 175  0.100 (0.498, 0.050) reduce, lead, reduction, identified, initiatives, reducing, long-term, growth, severe\n",
      " 127 166  0.100 (0.399, 0.063) history, abortion, Honors, declaration, Amends Federal law, rescission, content, Save\n",
      " 128 132  0.099 (0.340, 0.073) registration, voting, card, exposure, register, elections, voter, demonstrates\n",
      " 129  75  0.098 (0.355, 0.069) award, offering, pension, currency, provisions regarding, subscribers, retiree\n",
      " 130  92  0.096 (0.373, 0.064) repeal, home, death, digital, value, life, report to Congress regarding, abroad\n",
      " 131  12  0.095 (0.351, 0.068) Iraq, DOT, vehicle, electricity, September 11, ban, reliability, installation\n",
      " 132  30  0.095 (0.385, 0.062) Corporation, region, utility, power, lease, Repeals provisions, Alaska, transmission\n",
      " 133 115  0.094 (0.343, 0.069) historic, minority, West, Heritage, operation and maintenance, recreational, donor\n",
      " 134 182  0.094 (0.364, 0.064) Interior, conservation, species, habitat, recovery, swap, fish and wildlife, Western\n",
      " 135  16  0.092 (0.333, 0.069) rural, screening, Revises requirements, Appropriations Act, authorize appropriations\n",
      " 136 155  0.092 (0.361, 0.064) workers, leave, democracy, communities, volunteer, awards, reauthorize, firm\n",
      " 137  58  0.092 (0.336, 0.068) DOD, nuclear, Condemns, joint, defense, mission, Secretary, Outlines, operations, CG\n",
      " 138  23  0.091 (0.345, 0.066) bank, borrower, capital, lender, shares, insured, credit union, branch, insurance\n",
      " 139 150  0.090 (0.348, 0.065) Old Age, STEM, Conference, beneficiary, combined, Veterans Act, Advisory Committee\n",
      " 140 119  0.090 (0.354, 0.063) network, training, title III, service providers, Department of Labor, program\n",
      " 141  13  0.089 (0.393, 0.057) authority, exercise, arbitration, signal, resolve, bodily injury, discovery, refunds\n",
      " 142  61  0.089 (0.325, 0.068) household, eligibility, enter into cooperative agreements, allotment, Gulf of Mexico\n",
      " 143 197  0.088 (0.311, 0.071) coins, Directs the Secretary of the Treasury, dollar, Appropriates, Enforcement Act\n",
      " 144 189  0.087 (0.362, 0.060) firearm, food, exclude, risk, fees, sic, Act's enactment, marijuana, ten years\n",
      " 145   6  0.086 (0.335, 0.064) River, emissions, sources, Reservoir, pollutants, Directs the Administrator, Oklahoma\n",
      " 146  14  0.086 (0.362, 0.059) LEA, change, civil rights, immigrant, student's, authorize the Secretary, school year\n",
      " 147 173  0.086 (0.379, 0.057) proceeding, nongovernmental organizations, stay, Children's, examination, Avenue\n",
      " 148 151  0.085 (0.386, 0.055) testing, science, manufacturing, devices, human, engineering, surveillance, NSF\n",
      " 149 107  0.084 (0.378, 0.056) deployment, networks, television, Fairness, North Korea, target, broadcast, video\n",
      " 150 184  0.083 (0.355, 0.059) site, domestic violence, mission, Command, combat, international community, stability\n",
      " 151  68  0.083 (0.319, 0.065) prevention, disease, computer, diabetes, expand, treating, reference, principals\n",
      " 152  74  0.082 (0.324, 0.064) trafficking, controlled substance, CBP, customs, attempts, possessing, attempting\n",
      " 153  11  0.082 (0.405, 0.051) facility, facilities, residents, physical, risks, protocols, positive, exposure\n",
      " 154  41  0.081 (0.341, 0.059) reservation, wildlife, specified congressional committees, records, classified\n",
      " 155 126  0.080 (0.360, 0.056) performance, position, promotion, Bureau, grade, procurement, nonimmigrant, category\n",
      " 156   4  0.080 (0.369, 0.054) sales, sea, State, Act to prohibit, gun, prison, purchaser, seller, theft, disposed\n",
      " 157 164  0.080 (0.308, 0.065) Trail, marine, reclamation, core, Soviet Union, operators, hazardous materials\n",
      " 158 145  0.079 (0.391, 0.050) Commission, Protection Act, violations, explanation, forward, India, prohibitions\n",
      " 159 167  0.078 (0.329, 0.059) youth, homeless, adult, State, literacy, placement, SSI, AFDC, child's, at-risk\n",
      " 160  77  0.076 (0.362, 0.053) entity, enterprise, investment, II, entities, foreign, affiliated, immunity, legacy\n",
      " 161 130  0.071 (0.329, 0.054) Modifies, Coast Guard, innovative, November, start, increase the number, March 1\n",
      " 162  67  0.071 (0.369, 0.048) area, designation, local governments, State or local government, community, designate\n",
      " 163 159  0.070 (0.296, 0.059) price, terrorist, commodities, commodity, programming, radio, Extension Act, rescue\n",
      " 164  84  0.069 (0.301, 0.057) debtor, bankruptcy, enhanced, creditor, holders, tax credits, health care provider\n",
      " 165  29  0.067 (0.338, 0.050) infrastructure, small, mitigation, public transportation, flood insurance, expansion\n",
      " 166  50  0.067 (0.287, 0.058) tribal, tribes, Band, restricted, replace, hold, pass, Alaska Native, specified land\n",
      " 167  26  0.066 (0.309, 0.054) contract, unemployment compensation, State law, memorandum of understanding, retain\n",
      " 168  15  0.066 (0.299, 0.055) Working Group, closed, elderly, older, Aging, culture, problems, film, minorities\n",
      " 169 108  0.065 (0.322, 0.051) response, chemical, critical, threat, preparedness, Street, nuclear weapons, animal\n",
      " 170 129  0.065 (0.324, 0.050) HHS, access, Requires the Secretary, populations, nonfederal, Medicare beneficiaries\n",
      " 171 178  0.063 (0.364, 0.044) emergency, current law, U.S. Government, options, method, panel, housing assistance\n",
      " 172 142  0.062 (0.268, 0.058) VA, treat, FY2018, veteran's, homeless veterans, pain, opioid, realignment, COBRA\n",
      " 173   9  0.062 (0.283, 0.055) Medicaid, patient, exposed, medications, Export-Import Bank, XIX, barrier, bear\n",
      " 174  73  0.062 (0.317, 0.049) classification, NRC, sector, incidents, climate change, productivity, goals, focus\n",
      " 175 104  0.061 (0.309, 0.050) anniversary, September 30, display, port, gender, revisions, installed, onshore\n",
      " 176  98  0.061 (0.315, 0.049) protections, right, law enforcement agencies, bring a civil action, sole, Drive\n",
      " 177  90  0.060 (0.300, 0.050) restore, Restoration Act, acquisitions, hunting, crew, charter, subsidiaries, ships\n",
      " 178 141  0.058 (0.305, 0.048) spending, ensuring, threshold, station, off, Amends the Communications Act, time, EUC\n",
      " 179 188  0.057 (0.310, 0.046) agent, real property, dedicated, residency, appraisal, water conservation, investor\n",
      " 180 102  0.054 (0.279, 0.048) juvenile, healthy, violent, safe, law enforcement officers, custody, national service\n",
      " 181  79  0.051 (0.288, 0.044) hours, methodology, ineligible, campus, periods, disorders, actively, completing\n",
      " 182 169  0.050 (0.257, 0.049) patent, sexual assault, rights, protected, infringement, rape, invention, USPTO\n",
      " 183   7  0.050 (0.282, 0.044) employment, jobs, lower, targeted, substitute, audit, measurable, job creation, Earth\n",
      " 184  86  0.049 (0.272, 0.045) travel, Initiative, update, fraud, abuse, pesticide, Code, society, ethics, tourism\n",
      " 185  88  0.049 (0.271, 0.045) college, ending, weather, period beginning, adjust, biennial, March 31, April 1\n",
      " 186 158  0.048 (0.317, 0.037) assess, NOAA, Provides appropriations, Improvement Act, procurement, contractors\n",
      " 187 134  0.047 (0.285, 0.041) measure, Task Force, mobile, teacher, partner, health coverage, high-risk, classroom\n",
      " 188  89  0.047 (0.261, 0.045) FAA, asset, gas, moratorium, pipeline, uranium, CIA, Makes eligible, lessee, Dr.\n",
      " 189  96  0.046 (0.278, 0.041) best practices, border, line, Corps of Engineers, updated, Canada, rule of law\n",
      " 190  95  0.045 (0.254, 0.044) Amends title II, team, affiliate, minor, ports of entry, League, conditional\n",
      " 191  83  0.042 (0.242, 0.043) forest, incentives, enhancement, non-Federal, Acknowledges, identifies, suicide\n",
      " 192 195  0.042 (0.281, 0.037) taking, primary, Revises provisions, cooperative agreement, climate, injuries\n",
      " 193   8  0.040 (0.245, 0.040) waiver, Congratulates, role, supplies, central, one-year, integration, SNAP, helping\n",
      " 194 136  0.037 (0.259, 0.036) pilot program, plan, inapplicable, participant, managing, Secretary, universal\n",
      " 195  17  0.037 (0.224, 0.041) deadline, shipping, certain requirements, package, label, container, transporting\n",
      " 196  81  0.037 (0.229, 0.040) online, substance, chemicals, certificate, English, technology transfer, renewable\n",
      " 197  34  0.035 (0.238, 0.037) stop, closure, Native, July 1, European, occurs, Hunger, performing, best interest\n",
      " 198  72  0.034 (0.217, 0.039) nutrition, portions, notifying, added, National Parks, game, season, tunnel, foods\n",
      " 199  53  0.033 (0.240, 0.034) participants, managers, instead, Indian lands, abandoned, Investment Act, covering\n",
      " 200  91  0.030 (0.213, 0.035) State Department, contamination, 18 months, requirements with respect, Connecticut\n"
     ]
    }
   ],
   "source": [
    "print (\"Rank  ID  Score  Prob  Purity  Summary\")\n",
    "for i in range(0, numTopics):\n",
    "    topicID = topicRanking[i]\n",
    "    print (\" %3d %3d %6.3f (%5.3f, %4.3f) %s\" \n",
    "           % (i+1, topicID, topicScore[topicID], 100*topicProbs[topicID], topicPurity[topicID], topicSummaries[topicID]))"
   ]
  },
  {
   "cell_type": "markdown",
   "metadata": {},
   "source": [
    "### Save LDA Topic Summaries"
   ]
  },
  {
   "cell_type": "code",
   "execution_count": 26,
   "metadata": {
    "collapsed": true
   },
   "outputs": [],
   "source": [
    "# If you want to save out the summaries to file makes saveFile flag True\n",
    "saveFile = True\n",
    "if saveFile:\n",
    "    fp = open(os.path.join(\"./Data\", \"CongressionalDocTopicSummaries.tsv\"), \"w\")\n",
    "    i = 0\n",
    "    fp.write(\"TopicID\\tTopicSummary\\n\")\n",
    "    for line in topicSummaries:\n",
    "        fp.write(\"%d\\t%s\\n\" % (i, line))\n",
    "        i += 1\n",
    "    fp.close()"
   ]
  },
  {
   "cell_type": "markdown",
   "metadata": {},
   "source": [
    "### Next\n",
    "\n",
    "The topic model summization step is finished. The next will be topic modeling analysis which will be in the fifth notebook of the series: [`5_Topic_Model_Analysis.ipynb`](5_Topic_Model_Analysis.ipynb)."
   ]
  }
 ],
 "metadata": {
  "anaconda-cloud": {},
  "kernelspec": {
   "display_name": "Python 3",
   "language": "python",
   "name": "python3"
  },
  "language_info": {
   "codemirror_mode": {
    "name": "ipython",
    "version": 3
   },
   "file_extension": ".py",
   "mimetype": "text/x-python",
   "name": "python",
   "nbconvert_exporter": "python",
   "pygments_lexer": "ipython3",
   "version": "3.6.3"
  },
  "nbpresent": {
   "slides": {
    "05f2d009-1afe-4edb-8e44-3886ff90f662": {
     "id": "05f2d009-1afe-4edb-8e44-3886ff90f662",
     "prev": "62668528-4383-40d4-8346-55098de21deb",
     "regions": {
      "d017e9eb-469d-4844-a435-8a07fbd34a23": {
       "attrs": {
        "height": 0.8,
        "width": 0.8,
        "x": 0.1,
        "y": 0.1
       },
       "content": {
        "cell": "1931cc98-9c4c-46c4-bc06-ec37c31944f5",
        "part": "whole"
       },
       "id": "d017e9eb-469d-4844-a435-8a07fbd34a23"
      }
     }
    },
    "0cef4fe0-fb8d-4d04-8499-a0aeb8e39c83": {
     "id": "0cef4fe0-fb8d-4d04-8499-a0aeb8e39c83",
     "prev": "b054cb8c-2fae-45e7-a1ea-5ddf5fafd04b",
     "regions": {
      "dd5ebd19-ba29-416a-93fe-a419a7808320": {
       "attrs": {
        "height": 0.8,
        "width": 0.8,
        "x": 0.1,
        "y": 0.1
       },
       "content": {
        "cell": "55d8b0a5-11a9-4cf1-8399-b2d036254dd0",
        "part": "whole"
       },
       "id": "dd5ebd19-ba29-416a-93fe-a419a7808320"
      }
     }
    },
    "0e6eef49-e6e3-4a88-81ef-9ca6538de3c7": {
     "id": "0e6eef49-e6e3-4a88-81ef-9ca6538de3c7",
     "prev": "91501d8f-6e03-4eda-bc8e-b30ba3dfc5f0",
     "regions": {
      "c8a095f5-9b2e-49ce-932e-d9e6827b0ce0": {
       "attrs": {
        "height": 0.8,
        "width": 0.8,
        "x": 0.1,
        "y": 0.1
       },
       "content": {
        "cell": "d3b757c3-d523-4bc0-80af-7be110f7a46e",
        "part": "whole"
       },
       "id": "c8a095f5-9b2e-49ce-932e-d9e6827b0ce0"
      }
     }
    },
    "140f2fe3-3b71-4459-b7b6-6ae13d350899": {
     "id": "140f2fe3-3b71-4459-b7b6-6ae13d350899",
     "prev": "5eea5861-97ec-4b43-9f13-f54553e5f4f8",
     "regions": {
      "add32de8-317f-4069-a350-a458f3c72ccf": {
       "attrs": {
        "height": 0.8,
        "width": 0.8,
        "x": 0.1,
        "y": 0.1
       },
       "content": {
        "cell": "82e2d906-b067-419d-9532-378c6f36fd69",
        "part": "whole"
       },
       "id": "add32de8-317f-4069-a350-a458f3c72ccf"
      }
     }
    },
    "1776d003-6d9a-4f23-9d96-699132adcd76": {
     "id": "1776d003-6d9a-4f23-9d96-699132adcd76",
     "prev": "53b3e9a4-62db-4c7a-8cfa-fc9f79aee34c",
     "regions": {
      "70125e66-c103-4611-a5da-d3cb44c63b9b": {
       "attrs": {
        "height": 0.8,
        "width": 0.8,
        "x": 0.1,
        "y": 0.1
       },
       "content": {
        "cell": "2152a599-0581-4406-a32c-58b4ff36711a",
        "part": "whole"
       },
       "id": "70125e66-c103-4611-a5da-d3cb44c63b9b"
      }
     }
    },
    "1e29821d-1c4f-4da7-bbe5-c979e7357e74": {
     "id": "1e29821d-1c4f-4da7-bbe5-c979e7357e74",
     "prev": "f71b51d6-502c-4fed-9f1c-1ca9c7856bab",
     "regions": {
      "13a49cd8-72d5-4e60-a7fb-17efba769077": {
       "attrs": {
        "height": 0.8,
        "width": 0.8,
        "x": 0.1,
        "y": 0.1
       },
       "content": {
        "cell": "23d9b7ef-11db-419b-9f97-7bb07a1e3ca5",
        "part": "whole"
       },
       "id": "13a49cd8-72d5-4e60-a7fb-17efba769077"
      }
     }
    },
    "201e343b-d43c-49a4-b269-144375cc209b": {
     "id": "201e343b-d43c-49a4-b269-144375cc209b",
     "prev": "a8f84401-1564-46ed-9f98-3b5c5587fc2b",
     "regions": {
      "2dfbb0e7-5c43-466a-846c-8b9594885821": {
       "attrs": {
        "height": 0.8,
        "width": 0.8,
        "x": 0.1,
        "y": 0.1
       },
       "content": {
        "cell": "bc5e3810-08b3-41aa-af97-0159bf9be597",
        "part": "whole"
       },
       "id": "2dfbb0e7-5c43-466a-846c-8b9594885821"
      }
     }
    },
    "2f493bea-47ab-4331-bb67-b54b8e3dc9d3": {
     "id": "2f493bea-47ab-4331-bb67-b54b8e3dc9d3",
     "prev": "140f2fe3-3b71-4459-b7b6-6ae13d350899",
     "regions": {
      "1a39a72b-ce0e-4369-957c-7e6d4d807e6f": {
       "attrs": {
        "height": 0.8,
        "width": 0.8,
        "x": 0.1,
        "y": 0.1
       },
       "content": {
        "cell": "7fd9e75d-7abf-4dca-b173-23405ebdfbf6",
        "part": "whole"
       },
       "id": "1a39a72b-ce0e-4369-957c-7e6d4d807e6f"
      }
     }
    },
    "30262120-abbd-4411-bd89-1b5a439d5e3f": {
     "id": "30262120-abbd-4411-bd89-1b5a439d5e3f",
     "prev": "d41619a3-547d-4c04-be26-a5c33b88d40b",
     "regions": {
      "f4b170ee-2f1b-4b02-8766-a2fc64512189": {
       "attrs": {
        "height": 0.8,
        "width": 0.8,
        "x": 0.1,
        "y": 0.1
       },
       "content": {
        "cell": "46697539-829d-406f-8722-7b4f7ec3beee",
        "part": "whole"
       },
       "id": "f4b170ee-2f1b-4b02-8766-a2fc64512189"
      }
     }
    },
    "331f88b5-9322-49f1-adc5-75ac27be66dd": {
     "id": "331f88b5-9322-49f1-adc5-75ac27be66dd",
     "prev": "0cef4fe0-fb8d-4d04-8499-a0aeb8e39c83",
     "regions": {
      "d01c1b37-6ee0-4b05-8f98-0fdb1810f1e2": {
       "attrs": {
        "height": 0.8,
        "width": 0.8,
        "x": 0.1,
        "y": 0.1
       },
       "content": {
        "cell": "8e615a03-a616-4ce6-aaed-149bb7dc6c41",
        "part": "whole"
       },
       "id": "d01c1b37-6ee0-4b05-8f98-0fdb1810f1e2"
      }
     }
    },
    "34a7e350-fa50-4409-b82e-754894829e6b": {
     "id": "34a7e350-fa50-4409-b82e-754894829e6b",
     "prev": "2f493bea-47ab-4331-bb67-b54b8e3dc9d3",
     "regions": {
      "e155d08e-29ff-43e8-9582-d39d249f8f25": {
       "attrs": {
        "height": 0.8,
        "width": 0.8,
        "x": 0.1,
        "y": 0.1
       },
       "content": {
        "cell": "688b7bd8-bb00-442d-a195-dd1310424d82",
        "part": "whole"
       },
       "id": "e155d08e-29ff-43e8-9582-d39d249f8f25"
      }
     }
    },
    "363f8c01-8fa5-4d3a-be48-fbe5f510f37f": {
     "id": "363f8c01-8fa5-4d3a-be48-fbe5f510f37f",
     "prev": "bcf6777e-3eda-47d6-b99d-addd1ee0971d",
     "regions": {
      "9bd9bb83-09cf-476f-bf5f-1a626ef786c7": {
       "attrs": {
        "height": 0.8,
        "width": 0.8,
        "x": 0.1,
        "y": 0.1
       },
       "content": {
        "cell": "1f6a12bd-9325-457d-83d0-9e374033e64f",
        "part": "whole"
       },
       "id": "9bd9bb83-09cf-476f-bf5f-1a626ef786c7"
      }
     }
    },
    "39047648-1076-4f6f-97a9-18850caefd42": {
     "id": "39047648-1076-4f6f-97a9-18850caefd42",
     "prev": "ceb43268-457f-4903-99d1-30e57078a37e",
     "regions": {
      "505fa6dc-a635-4d40-b72f-dcacbd3abbd6": {
       "attrs": {
        "height": 0.8,
        "width": 0.8,
        "x": 0.1,
        "y": 0.1
       },
       "content": {
        "cell": "e537aed2-414b-4e59-be59-5cee147398b5",
        "part": "whole"
       },
       "id": "505fa6dc-a635-4d40-b72f-dcacbd3abbd6"
      }
     }
    },
    "3cda56c3-eb5e-48b8-9212-92a62a2a7826": {
     "id": "3cda56c3-eb5e-48b8-9212-92a62a2a7826",
     "prev": "201e343b-d43c-49a4-b269-144375cc209b",
     "regions": {
      "bd3c7db9-0274-4f8a-8f10-379915d3f716": {
       "attrs": {
        "height": 0.8,
        "width": 0.8,
        "x": 0.1,
        "y": 0.1
       },
       "content": {
        "cell": "c3593bde-7eee-4a9d-8565-7d9774947404",
        "part": "whole"
       },
       "id": "bd3c7db9-0274-4f8a-8f10-379915d3f716"
      }
     }
    },
    "46a01693-1013-42d2-8d91-b3712ff3c87a": {
     "id": "46a01693-1013-42d2-8d91-b3712ff3c87a",
     "prev": "05f2d009-1afe-4edb-8e44-3886ff90f662",
     "regions": {
      "175e092d-bf70-405b-863f-015ab6587671": {
       "attrs": {
        "height": 0.8,
        "width": 0.8,
        "x": 0.1,
        "y": 0.1
       },
       "content": {
        "cell": "fd3d5300-60a1-4873-a52d-a9d5b89b3463",
        "part": "whole"
       },
       "id": "175e092d-bf70-405b-863f-015ab6587671"
      }
     }
    },
    "50e992a5-4a41-4ae5-a900-ef487cd4ae35": {
     "id": "50e992a5-4a41-4ae5-a900-ef487cd4ae35",
     "prev": "574d6678-3a5c-4308-9721-08a400ed1c5c",
     "regions": {
      "ed346ef0-2c3c-4f49-8a7f-2d285a89d18f": {
       "attrs": {
        "height": 0.8,
        "width": 0.8,
        "x": 0.1,
        "y": 0.1
       },
       "content": {
        "cell": "61921e49-660e-4d97-a4c8-feec4804e2ce",
        "part": "whole"
       },
       "id": "ed346ef0-2c3c-4f49-8a7f-2d285a89d18f"
      }
     }
    },
    "51573f2c-47b4-4e58-8d26-c5a4bd5bad73": {
     "id": "51573f2c-47b4-4e58-8d26-c5a4bd5bad73",
     "prev": "5eeee22c-1a7f-4886-9d4e-d2dbf6236f7b",
     "regions": {
      "13c66008-6e50-4845-96bc-ff9377c4c983": {
       "attrs": {
        "height": 0.8,
        "width": 0.8,
        "x": 0.1,
        "y": 0.1
       },
       "content": {
        "cell": "4d17de12-2451-4b0b-ab3b-a73bf7f6e9dc",
        "part": "whole"
       },
       "id": "13c66008-6e50-4845-96bc-ff9377c4c983"
      }
     }
    },
    "53b3e9a4-62db-4c7a-8cfa-fc9f79aee34c": {
     "id": "53b3e9a4-62db-4c7a-8cfa-fc9f79aee34c",
     "prev": "363f8c01-8fa5-4d3a-be48-fbe5f510f37f",
     "regions": {
      "c4999ffb-39fa-4078-b348-70fe2e877a91": {
       "attrs": {
        "height": 0.8,
        "width": 0.8,
        "x": 0.1,
        "y": 0.1
       },
       "content": {
        "cell": "a0086b4c-7e4a-4bc7-b720-7ef6bf2508ad",
        "part": "whole"
       },
       "id": "c4999ffb-39fa-4078-b348-70fe2e877a91"
      }
     }
    },
    "5475c970-b6a6-472c-8c50-5a792b6d7239": {
     "id": "5475c970-b6a6-472c-8c50-5a792b6d7239",
     "prev": "39047648-1076-4f6f-97a9-18850caefd42",
     "regions": {
      "2118fa40-e217-4d08-81d6-6170d4352e71": {
       "attrs": {
        "height": 0.8,
        "width": 0.8,
        "x": 0.1,
        "y": 0.1
       },
       "content": {
        "cell": "22d6a20f-fa82-4df0-8aac-29c150397a1f",
        "part": "whole"
       },
       "id": "2118fa40-e217-4d08-81d6-6170d4352e71"
      }
     }
    },
    "54fdedeb-5ba3-4a3b-9434-5848640aec04": {
     "id": "54fdedeb-5ba3-4a3b-9434-5848640aec04",
     "prev": "b6bd6bfd-15ba-42b0-8c9f-0c7da3f2c412",
     "regions": {
      "85dd6a4b-89d5-4d2a-9ec2-b921fb785e59": {
       "attrs": {
        "height": 0.8,
        "width": 0.8,
        "x": 0.1,
        "y": 0.1
       },
       "content": {
        "cell": "fe638683-0efb-49b6-93d2-4e8f22f15e6a",
        "part": "whole"
       },
       "id": "85dd6a4b-89d5-4d2a-9ec2-b921fb785e59"
      }
     }
    },
    "565b4230-1376-4e7c-a13e-b4995b8a0bba": {
     "id": "565b4230-1376-4e7c-a13e-b4995b8a0bba",
     "prev": "34a7e350-fa50-4409-b82e-754894829e6b",
     "regions": {
      "ebc439f8-9559-4dee-8a5d-ae06b3d11bf2": {
       "attrs": {
        "height": 0.8,
        "width": 0.8,
        "x": 0.1,
        "y": 0.1
       },
       "content": {
        "cell": "ac3b8bc5-6733-46cf-9451-10b7c9ef8d88",
        "part": "whole"
       },
       "id": "ebc439f8-9559-4dee-8a5d-ae06b3d11bf2"
      }
     }
    },
    "574d6678-3a5c-4308-9721-08a400ed1c5c": {
     "id": "574d6678-3a5c-4308-9721-08a400ed1c5c",
     "prev": "46a01693-1013-42d2-8d91-b3712ff3c87a",
     "regions": {
      "bef7e15a-4149-459d-a43e-b10ac158063c": {
       "attrs": {
        "height": 0.8,
        "width": 0.8,
        "x": 0.1,
        "y": 0.1
       },
       "content": {
        "cell": "f2b0a490-a67d-47fc-872f-1e4696886ecb",
        "part": "whole"
       },
       "id": "bef7e15a-4149-459d-a43e-b10ac158063c"
      }
     }
    },
    "576b393a-49c9-418c-88c8-d809cf395f9b": {
     "id": "576b393a-49c9-418c-88c8-d809cf395f9b",
     "prev": "f352183b-c020-4e8d-b0c5-22bee23dc2fe",
     "regions": {
      "34336a75-959c-449a-ac26-326f6f712351": {
       "attrs": {
        "height": 0.8,
        "width": 0.8,
        "x": 0.1,
        "y": 0.1
       },
       "content": {
        "cell": "eaf0b191-c85a-48b9-9bcb-b38ca076c9b4",
        "part": "whole"
       },
       "id": "34336a75-959c-449a-ac26-326f6f712351"
      }
     }
    },
    "57f789db-05dd-4bf0-8526-3c0ad9fe84ef": {
     "id": "57f789db-05dd-4bf0-8526-3c0ad9fe84ef",
     "prev": "a3a6270c-ba38-4a61-9885-cdcefc707993",
     "regions": {
      "10fbe879-f4ba-42f8-a10f-c2d794f23a9a": {
       "attrs": {
        "height": 0.8,
        "width": 0.8,
        "x": 0.1,
        "y": 0.1
       },
       "content": {
        "cell": "c158c2fc-56b7-40a7-a765-d7a3b4692839",
        "part": "whole"
       },
       "id": "10fbe879-f4ba-42f8-a10f-c2d794f23a9a"
      }
     }
    },
    "5eea5861-97ec-4b43-9f13-f54553e5f4f8": {
     "id": "5eea5861-97ec-4b43-9f13-f54553e5f4f8",
     "prev": "f7603915-d5b5-4c40-b10a-08bb21bc64bc",
     "regions": {
      "60f7cfd2-412d-45ca-b9f3-288ec1d241d6": {
       "attrs": {
        "height": 0.8,
        "width": 0.8,
        "x": 0.1,
        "y": 0.1
       },
       "content": {
        "cell": "b43ca7bd-75e7-4d17-9f77-80ce05375dad",
        "part": "whole"
       },
       "id": "60f7cfd2-412d-45ca-b9f3-288ec1d241d6"
      }
     }
    },
    "5eeee22c-1a7f-4886-9d4e-d2dbf6236f7b": {
     "id": "5eeee22c-1a7f-4886-9d4e-d2dbf6236f7b",
     "prev": "1776d003-6d9a-4f23-9d96-699132adcd76",
     "regions": {
      "b8223200-f30d-44c0-b41e-0a0db1825253": {
       "attrs": {
        "height": 0.8,
        "width": 0.8,
        "x": 0.1,
        "y": 0.1
       },
       "content": {
        "cell": "a726551f-3724-4de9-87d5-0c0418852da4",
        "part": "whole"
       },
       "id": "b8223200-f30d-44c0-b41e-0a0db1825253"
      }
     }
    },
    "62668528-4383-40d4-8346-55098de21deb": {
     "id": "62668528-4383-40d4-8346-55098de21deb",
     "prev": "c1a57d7c-99c7-4e52-812c-cf2c74664e55",
     "regions": {
      "cd307f23-6a10-474d-a0b2-839f698fa5c6": {
       "attrs": {
        "height": 0.8,
        "width": 0.8,
        "x": 0.1,
        "y": 0.1
       },
       "content": {
        "cell": "ec8066e8-9812-4956-b76a-8a4d0086385c",
        "part": "whole"
       },
       "id": "cd307f23-6a10-474d-a0b2-839f698fa5c6"
      }
     }
    },
    "65d70995-6916-4f25-a4bd-b09969de74ce": {
     "id": "65d70995-6916-4f25-a4bd-b09969de74ce",
     "prev": "3cda56c3-eb5e-48b8-9212-92a62a2a7826",
     "regions": {
      "2637e2e8-d300-488e-8580-f43e05610a39": {
       "attrs": {
        "height": 0.8,
        "width": 0.8,
        "x": 0.1,
        "y": 0.1
       },
       "content": {
        "cell": "21678e5f-ad6c-46d1-8a71-f64bd9483c42",
        "part": "whole"
       },
       "id": "2637e2e8-d300-488e-8580-f43e05610a39"
      }
     }
    },
    "70e3ee2e-bfe6-4f43-af9c-6346661e54c5": {
     "id": "70e3ee2e-bfe6-4f43-af9c-6346661e54c5",
     "prev": "8aec0b7f-1025-41b7-bc0d-aa8c4448ca70",
     "regions": {
      "f9c404d5-84d6-41b9-baa3-f66373330ff2": {
       "attrs": {
        "height": 0.8,
        "width": 0.8,
        "x": 0.1,
        "y": 0.1
       },
       "content": {
        "cell": "bc5ecdb1-c51c-457f-be3f-eee94247f13b",
        "part": "whole"
       },
       "id": "f9c404d5-84d6-41b9-baa3-f66373330ff2"
      }
     }
    },
    "8a4c7762-739d-4b1e-9e82-c1ab40edf5b5": {
     "id": "8a4c7762-739d-4b1e-9e82-c1ab40edf5b5",
     "prev": "565b4230-1376-4e7c-a13e-b4995b8a0bba",
     "regions": {
      "c91c6488-bd1d-4243-bd8b-a5c7b3df186c": {
       "attrs": {
        "height": 0.8,
        "width": 0.8,
        "x": 0.1,
        "y": 0.1
       },
       "content": {
        "cell": "e45a357e-ab67-4d85-80e9-d433714f9798",
        "part": "whole"
       },
       "id": "c91c6488-bd1d-4243-bd8b-a5c7b3df186c"
      }
     }
    },
    "8aec0b7f-1025-41b7-bc0d-aa8c4448ca70": {
     "id": "8aec0b7f-1025-41b7-bc0d-aa8c4448ca70",
     "prev": "30262120-abbd-4411-bd89-1b5a439d5e3f",
     "regions": {
      "8b5fc013-d5ba-4eb4-97d7-8332986ca2d9": {
       "attrs": {
        "height": 0.8,
        "width": 0.8,
        "x": 0.1,
        "y": 0.1
       },
       "content": {
        "cell": "fb58ed5d-85bb-4ab3-9b8e-2d8b79d2df55",
        "part": "whole"
       },
       "id": "8b5fc013-d5ba-4eb4-97d7-8332986ca2d9"
      }
     }
    },
    "91501d8f-6e03-4eda-bc8e-b30ba3dfc5f0": {
     "id": "91501d8f-6e03-4eda-bc8e-b30ba3dfc5f0",
     "prev": "51573f2c-47b4-4e58-8d26-c5a4bd5bad73",
     "regions": {
      "09a4f864-d729-4241-b38e-f177c8dd729e": {
       "attrs": {
        "height": 0.8,
        "width": 0.8,
        "x": 0.1,
        "y": 0.1
       },
       "content": {
        "cell": "c96b2d58-4729-4243-8799-c21dc615fa58",
        "part": "whole"
       },
       "id": "09a4f864-d729-4241-b38e-f177c8dd729e"
      }
     }
    },
    "98743de2-1c1e-48ad-af4c-1f5af339092a": {
     "id": "98743de2-1c1e-48ad-af4c-1f5af339092a",
     "prev": "65d70995-6916-4f25-a4bd-b09969de74ce",
     "regions": {
      "7bf9c7ba-0f21-4335-8e2f-c1167cb2713e": {
       "attrs": {
        "height": 0.8,
        "width": 0.8,
        "x": 0.1,
        "y": 0.1
       },
       "content": {
        "cell": "4ddff9a8-0a31-4889-bedb-b64d10eddcc1",
        "part": "whole"
       },
       "id": "7bf9c7ba-0f21-4335-8e2f-c1167cb2713e"
      }
     }
    },
    "9b722714-7a0c-41fe-a2ea-7a1065f9fcfb": {
     "id": "9b722714-7a0c-41fe-a2ea-7a1065f9fcfb",
     "prev": null,
     "regions": {
      "c2409342-142e-4490-99ab-2bd221db4aba": {
       "attrs": {
        "height": 0.8,
        "width": 0.8,
        "x": 0.1,
        "y": 0.1
       },
       "content": {
        "cell": "31b17f54-6bfd-48da-ade1-d08773cc47f1",
        "part": "whole"
       },
       "id": "c2409342-142e-4490-99ab-2bd221db4aba"
      }
     }
    },
    "a3a6270c-ba38-4a61-9885-cdcefc707993": {
     "id": "a3a6270c-ba38-4a61-9885-cdcefc707993",
     "prev": "a7232942-629c-40bc-a9f6-2843f15aa652",
     "regions": {
      "8c3ed09e-4098-4a54-8d79-f0f3145629b0": {
       "attrs": {
        "height": 0.8,
        "width": 0.8,
        "x": 0.1,
        "y": 0.1
       },
       "content": {
        "cell": "f28084b0-cc2e-4231-842f-5765d92d44f0",
        "part": "whole"
       },
       "id": "8c3ed09e-4098-4a54-8d79-f0f3145629b0"
      }
     }
    },
    "a7232942-629c-40bc-a9f6-2843f15aa652": {
     "id": "a7232942-629c-40bc-a9f6-2843f15aa652",
     "prev": "f4146329-5a8f-4afa-b173-bf72e045d2e2",
     "regions": {
      "cbd01583-9fdc-45aa-86fd-66e5acdc068a": {
       "attrs": {
        "height": 0.8,
        "width": 0.8,
        "x": 0.1,
        "y": 0.1
       },
       "content": {
        "cell": "6244226e-a91b-4767-83da-d41e882399a4",
        "part": "whole"
       },
       "id": "cbd01583-9fdc-45aa-86fd-66e5acdc068a"
      }
     }
    },
    "a8b9740f-17bf-4874-854a-81138b906f1e": {
     "id": "a8b9740f-17bf-4874-854a-81138b906f1e",
     "prev": "ccb90a10-a80d-478d-b925-2bc0c979183e",
     "regions": {
      "9df434d3-a4fe-4d81-8b5f-2711cf8c285e": {
       "attrs": {
        "height": 0.8,
        "width": 0.8,
        "x": 0.1,
        "y": 0.1
       },
       "content": {
        "cell": "bbe5cc20-ad4f-482c-8f94-09de87752d30",
        "part": "whole"
       },
       "id": "9df434d3-a4fe-4d81-8b5f-2711cf8c285e"
      }
     }
    },
    "a8f84401-1564-46ed-9f98-3b5c5587fc2b": {
     "id": "a8f84401-1564-46ed-9f98-3b5c5587fc2b",
     "prev": "70e3ee2e-bfe6-4f43-af9c-6346661e54c5",
     "regions": {
      "0f60d3c1-372d-40d6-b59e-ad867e1c63f6": {
       "attrs": {
        "height": 0.8,
        "width": 0.8,
        "x": 0.1,
        "y": 0.1
       },
       "content": {
        "cell": "8a9b81d1-058f-4a37-acbe-b825045866b4",
        "part": "whole"
       },
       "id": "0f60d3c1-372d-40d6-b59e-ad867e1c63f6"
      }
     }
    },
    "b054cb8c-2fae-45e7-a1ea-5ddf5fafd04b": {
     "id": "b054cb8c-2fae-45e7-a1ea-5ddf5fafd04b",
     "prev": "98743de2-1c1e-48ad-af4c-1f5af339092a",
     "regions": {
      "e21ecc9f-a912-45da-96a2-b4d1f970628e": {
       "attrs": {
        "height": 0.8,
        "width": 0.8,
        "x": 0.1,
        "y": 0.1
       },
       "content": {
        "cell": "177ee67d-3e38-4009-b65e-4d08f79c862b",
        "part": "whole"
       },
       "id": "e21ecc9f-a912-45da-96a2-b4d1f970628e"
      }
     }
    },
    "b6bd6bfd-15ba-42b0-8c9f-0c7da3f2c412": {
     "id": "b6bd6bfd-15ba-42b0-8c9f-0c7da3f2c412",
     "prev": "da843dce-021d-471b-a542-f4b8d2591a62",
     "regions": {
      "6550d1d6-e978-43e5-9e79-6f7d4a718cd4": {
       "attrs": {
        "height": 0.8,
        "width": 0.8,
        "x": 0.1,
        "y": 0.1
       },
       "content": {
        "cell": "6975bd59-2a7c-466c-b248-7dbff82dea79",
        "part": "whole"
       },
       "id": "6550d1d6-e978-43e5-9e79-6f7d4a718cd4"
      }
     }
    },
    "ba74b38b-6de6-4f16-b7b1-bb78365fee8a": {
     "id": "ba74b38b-6de6-4f16-b7b1-bb78365fee8a",
     "prev": "cf0820e2-9708-4c69-96e1-cfaab18170b6",
     "regions": {
      "a109cf38-42d4-49f1-b5c3-e5d95e13a5f3": {
       "attrs": {
        "height": 0.8,
        "width": 0.8,
        "x": 0.1,
        "y": 0.1
       },
       "content": {
        "cell": "5fef2737-5cde-43e2-8c05-04320722da93",
        "part": "whole"
       },
       "id": "a109cf38-42d4-49f1-b5c3-e5d95e13a5f3"
      }
     }
    },
    "bbc708aa-4a8b-4aae-bd36-7dbe87a4172d": {
     "id": "bbc708aa-4a8b-4aae-bd36-7dbe87a4172d",
     "prev": "0e6eef49-e6e3-4a88-81ef-9ca6538de3c7",
     "regions": {
      "306c285e-6439-4773-be85-1d6b90b44dcb": {
       "attrs": {
        "height": 0.8,
        "width": 0.8,
        "x": 0.1,
        "y": 0.1
       },
       "content": {
        "cell": "96008087-cb6e-4ba1-b9c6-b4480835ef0f",
        "part": "whole"
       },
       "id": "306c285e-6439-4773-be85-1d6b90b44dcb"
      }
     }
    },
    "bcf6777e-3eda-47d6-b99d-addd1ee0971d": {
     "id": "bcf6777e-3eda-47d6-b99d-addd1ee0971d",
     "prev": "576b393a-49c9-418c-88c8-d809cf395f9b",
     "regions": {
      "fd7ec647-ff66-4fc9-b026-508f4f73fd73": {
       "attrs": {
        "height": 0.8,
        "width": 0.8,
        "x": 0.1,
        "y": 0.1
       },
       "content": {
        "cell": "bcd1daea-0849-4cd4-9349-a7f52641eb95",
        "part": "whole"
       },
       "id": "fd7ec647-ff66-4fc9-b026-508f4f73fd73"
      }
     }
    },
    "c1a57d7c-99c7-4e52-812c-cf2c74664e55": {
     "id": "c1a57d7c-99c7-4e52-812c-cf2c74664e55",
     "prev": "8a4c7762-739d-4b1e-9e82-c1ab40edf5b5",
     "regions": {
      "1981b742-5951-4860-9e99-bbd9c5ba71a8": {
       "attrs": {
        "height": 0.8,
        "width": 0.8,
        "x": 0.1,
        "y": 0.1
       },
       "content": {
        "cell": "9c6d2ec8-2fd6-43ac-89e7-293228019bb2",
        "part": "whole"
       },
       "id": "1981b742-5951-4860-9e99-bbd9c5ba71a8"
      }
     }
    },
    "c27308f0-bd6b-4b36-8ff1-6ce863894538": {
     "id": "c27308f0-bd6b-4b36-8ff1-6ce863894538",
     "prev": "cb39cf50-e059-426b-b314-52968b249608",
     "regions": {
      "d9d1c211-e2e4-4242-a9ac-6186c72f7fb9": {
       "attrs": {
        "height": 0.8,
        "width": 0.8,
        "x": 0.1,
        "y": 0.1
       },
       "content": {
        "cell": "a9d68eeb-a68b-487f-8fb9-088168cddbda",
        "part": "whole"
       },
       "id": "d9d1c211-e2e4-4242-a9ac-6186c72f7fb9"
      }
     }
    },
    "cb39cf50-e059-426b-b314-52968b249608": {
     "id": "cb39cf50-e059-426b-b314-52968b249608",
     "prev": "a8b9740f-17bf-4874-854a-81138b906f1e",
     "regions": {
      "7d1736b5-d6db-49ea-bb88-d6240a63bf60": {
       "attrs": {
        "height": 0.8,
        "width": 0.8,
        "x": 0.1,
        "y": 0.1
       },
       "content": {
        "cell": "dacd12f0-444b-4759-af58-27d4ba1c4fe5",
        "part": "whole"
       },
       "id": "7d1736b5-d6db-49ea-bb88-d6240a63bf60"
      }
     }
    },
    "cb89c63b-a2fd-4e72-b76c-7fc44dd7b6be": {
     "id": "cb89c63b-a2fd-4e72-b76c-7fc44dd7b6be",
     "prev": "bbc708aa-4a8b-4aae-bd36-7dbe87a4172d",
     "regions": {
      "d012c252-7d7b-4633-985d-873edc19d5bc": {
       "attrs": {
        "height": 0.8,
        "width": 0.8,
        "x": 0.1,
        "y": 0.1
       },
       "content": {
        "cell": "2a72aece-5261-4bad-883b-b21455f957cc",
        "part": "whole"
       },
       "id": "d012c252-7d7b-4633-985d-873edc19d5bc"
      }
     }
    },
    "ccb90a10-a80d-478d-b925-2bc0c979183e": {
     "id": "ccb90a10-a80d-478d-b925-2bc0c979183e",
     "prev": "ba74b38b-6de6-4f16-b7b1-bb78365fee8a",
     "regions": {
      "231f19ab-00e3-47fa-9cd3-cfc74bca54b3": {
       "attrs": {
        "height": 0.8,
        "width": 0.8,
        "x": 0.1,
        "y": 0.1
       },
       "content": {
        "cell": "31b80b11-4918-48ac-a513-974a85830a0a",
        "part": "whole"
       },
       "id": "231f19ab-00e3-47fa-9cd3-cfc74bca54b3"
      }
     }
    },
    "ceb43268-457f-4903-99d1-30e57078a37e": {
     "id": "ceb43268-457f-4903-99d1-30e57078a37e",
     "prev": "331f88b5-9322-49f1-adc5-75ac27be66dd",
     "regions": {
      "f1f8982d-80e7-4081-b787-451ad5a723e7": {
       "attrs": {
        "height": 0.8,
        "width": 0.8,
        "x": 0.1,
        "y": 0.1
       },
       "content": {
        "cell": "1301be86-24d2-45a3-aced-d0b4948e765b",
        "part": "whole"
       },
       "id": "f1f8982d-80e7-4081-b787-451ad5a723e7"
      }
     }
    },
    "cf0820e2-9708-4c69-96e1-cfaab18170b6": {
     "id": "cf0820e2-9708-4c69-96e1-cfaab18170b6",
     "prev": "50e992a5-4a41-4ae5-a900-ef487cd4ae35",
     "regions": {
      "b052b2ed-acc4-491e-a9c1-4c418029bacf": {
       "attrs": {
        "height": 0.8,
        "width": 0.8,
        "x": 0.1,
        "y": 0.1
       },
       "content": {
        "cell": "902f0953-1cc3-465a-a93b-aa08daf2b18b",
        "part": "whole"
       },
       "id": "b052b2ed-acc4-491e-a9c1-4c418029bacf"
      }
     }
    },
    "d41619a3-547d-4c04-be26-a5c33b88d40b": {
     "id": "d41619a3-547d-4c04-be26-a5c33b88d40b",
     "prev": "1e29821d-1c4f-4da7-bbe5-c979e7357e74",
     "regions": {
      "83fa0715-62ef-41ce-a8be-7e7e9f45a4a1": {
       "attrs": {
        "height": 0.8,
        "width": 0.8,
        "x": 0.1,
        "y": 0.1
       },
       "content": {
        "cell": "44f6c13e-aae6-4bcf-97f5-5527bacc0512",
        "part": "whole"
       },
       "id": "83fa0715-62ef-41ce-a8be-7e7e9f45a4a1"
      }
     }
    },
    "da843dce-021d-471b-a542-f4b8d2591a62": {
     "id": "da843dce-021d-471b-a542-f4b8d2591a62",
     "prev": "cb89c63b-a2fd-4e72-b76c-7fc44dd7b6be",
     "regions": {
      "588d63ad-348c-4393-bff0-7983fbc6fb98": {
       "attrs": {
        "height": 0.8,
        "width": 0.8,
        "x": 0.1,
        "y": 0.1
       },
       "content": {
        "cell": "98a57c6a-25fc-4597-9098-5521b9153f5b",
        "part": "whole"
       },
       "id": "588d63ad-348c-4393-bff0-7983fbc6fb98"
      }
     }
    },
    "f352183b-c020-4e8d-b0c5-22bee23dc2fe": {
     "id": "f352183b-c020-4e8d-b0c5-22bee23dc2fe",
     "prev": "57f789db-05dd-4bf0-8526-3c0ad9fe84ef",
     "regions": {
      "e60b3552-f330-4638-8dd6-2641f172504f": {
       "attrs": {
        "height": 0.8,
        "width": 0.8,
        "x": 0.1,
        "y": 0.1
       },
       "content": {
        "cell": "be794056-435f-49e2-b69b-2ca5409710bf",
        "part": "whole"
       },
       "id": "e60b3552-f330-4638-8dd6-2641f172504f"
      }
     }
    },
    "f4146329-5a8f-4afa-b173-bf72e045d2e2": {
     "id": "f4146329-5a8f-4afa-b173-bf72e045d2e2",
     "prev": "5475c970-b6a6-472c-8c50-5a792b6d7239",
     "regions": {
      "71d82122-be41-4ecf-b333-56d798905c13": {
       "attrs": {
        "height": 0.8,
        "width": 0.8,
        "x": 0.1,
        "y": 0.1
       },
       "content": {
        "cell": "1940dcd6-9b8b-4dea-af39-ca75e72062aa",
        "part": "whole"
       },
       "id": "71d82122-be41-4ecf-b333-56d798905c13"
      }
     }
    },
    "f71b51d6-502c-4fed-9f1c-1ca9c7856bab": {
     "id": "f71b51d6-502c-4fed-9f1c-1ca9c7856bab",
     "prev": "9b722714-7a0c-41fe-a2ea-7a1065f9fcfb",
     "regions": {
      "1db50964-9f01-4c97-9d5b-778c2bcdb4bf": {
       "attrs": {
        "height": 0.8,
        "width": 0.8,
        "x": 0.1,
        "y": 0.1
       },
       "content": {
        "cell": "21d8d7fd-501d-4eec-abd4-a827100e5406",
        "part": "whole"
       },
       "id": "1db50964-9f01-4c97-9d5b-778c2bcdb4bf"
      }
     }
    },
    "f7603915-d5b5-4c40-b10a-08bb21bc64bc": {
     "id": "f7603915-d5b5-4c40-b10a-08bb21bc64bc",
     "prev": "54fdedeb-5ba3-4a3b-9434-5848640aec04",
     "regions": {
      "1c520645-43cc-4a54-a8b7-869917f8d407": {
       "attrs": {
        "height": 0.8,
        "width": 0.8,
        "x": 0.1,
        "y": 0.1
       },
       "content": {
        "cell": "65904084-4721-4b58-8ea5-711b7b6388fa",
        "part": "whole"
       },
       "id": "1c520645-43cc-4a54-a8b7-869917f8d407"
      }
     }
    }
   },
   "themes": {}
  }
 },
 "nbformat": 4,
 "nbformat_minor": 1
}
